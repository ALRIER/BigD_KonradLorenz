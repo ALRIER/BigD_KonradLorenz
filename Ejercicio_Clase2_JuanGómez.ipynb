{
  "nbformat": 4,
  "nbformat_minor": 0,
  "metadata": {
    "colab": {
      "provenance": [],
      "include_colab_link": true
    },
    "kernelspec": {
      "name": "python3",
      "display_name": "Python 3"
    },
    "language_info": {
      "name": "python"
    }
  },
  "cells": [
    {
      "cell_type": "markdown",
      "metadata": {
        "id": "view-in-github",
        "colab_type": "text"
      },
      "source": [
        "<a href=\"https://colab.research.google.com/github/ALRIER/BigD_KonradLorenz/blob/Juan_Esteban_G%C3%B3mez/Ejercicio_Clase2_JuanG%C3%B3mez.ipynb\" target=\"_parent\"><img src=\"https://colab.research.google.com/assets/colab-badge.svg\" alt=\"Open In Colab\"/></a>"
      ]
    },
    {
      "cell_type": "markdown",
      "source": [
        "# <h1>****Introducción a R & Python.****\n",
        "\n",
        "\n",
        "\n",
        "\n"
      ],
      "metadata": {
        "id": "85NPVDdw7Qvf"
      }
    },
    {
      "cell_type": "markdown",
      "source": [
        "*****NOTA: para correr el comando \"mágico de R\" en google colab, hará falta que después de instalado se reinicie el kernel, para así poder aplicar los cambios.*****"
      ],
      "metadata": {
        "id": "SPvwDX2x8vkG"
      }
    },
    {
      "cell_type": "code",
      "source": [
        "!pip install rpy2==3.5.1"
      ],
      "metadata": {
        "colab": {
          "base_uri": "https://localhost:8080/"
        },
        "id": "lJ1lD9NzA2Uh",
        "outputId": "918c6b45-c147-4250-816f-4885e3a9bfb9"
      },
      "execution_count": 1,
      "outputs": [
        {
          "output_type": "stream",
          "name": "stdout",
          "text": [
            "Collecting rpy2==3.5.1\n",
            "  Downloading rpy2-3.5.1.tar.gz (201 kB)\n",
            "\u001b[?25l     \u001b[90m━━━━━━━━━━━━━━━━━━━━━━━━━━━━━━━━━━━━━━━━\u001b[0m \u001b[32m0.0/201.7 kB\u001b[0m \u001b[31m?\u001b[0m eta \u001b[36m-:--:--\u001b[0m\r\u001b[2K     \u001b[91m━━━━━━━━━━━━━━\u001b[0m\u001b[90m╺\u001b[0m\u001b[90m━━━━━━━━━━━━━━━━━━━━━━━━━\u001b[0m \u001b[32m71.7/201.7 kB\u001b[0m \u001b[31m2.0 MB/s\u001b[0m eta \u001b[36m0:00:01\u001b[0m\r\u001b[2K     \u001b[90m━━━━━━━━━━━━━━━━━━━━━━━━━━━━━━━━━━━━━━━\u001b[0m \u001b[32m201.7/201.7 kB\u001b[0m \u001b[31m3.4 MB/s\u001b[0m eta \u001b[36m0:00:00\u001b[0m\n",
            "\u001b[?25h  Preparing metadata (setup.py) ... \u001b[?25l\u001b[?25hdone\n",
            "Requirement already satisfied: cffi>=1.10.0 in /usr/local/lib/python3.10/dist-packages (from rpy2==3.5.1) (1.15.1)\n",
            "Requirement already satisfied: jinja2 in /usr/local/lib/python3.10/dist-packages (from rpy2==3.5.1) (3.1.2)\n",
            "Requirement already satisfied: pytz in /usr/local/lib/python3.10/dist-packages (from rpy2==3.5.1) (2023.3)\n",
            "Requirement already satisfied: tzlocal in /usr/local/lib/python3.10/dist-packages (from rpy2==3.5.1) (5.0.1)\n",
            "Requirement already satisfied: pycparser in /usr/local/lib/python3.10/dist-packages (from cffi>=1.10.0->rpy2==3.5.1) (2.21)\n",
            "Requirement already satisfied: MarkupSafe>=2.0 in /usr/local/lib/python3.10/dist-packages (from jinja2->rpy2==3.5.1) (2.1.3)\n",
            "Building wheels for collected packages: rpy2\n",
            "  Building wheel for rpy2 (setup.py) ... \u001b[?25l\u001b[?25hdone\n",
            "  Created wheel for rpy2: filename=rpy2-3.5.1-cp310-cp310-linux_x86_64.whl size=314937 sha256=0b836ff6bc05e71693b5ce549142dbc8ebbb878bcaa025ed1ea36ffa18dccedd\n",
            "  Stored in directory: /root/.cache/pip/wheels/73/a6/ff/4e75dd1ce1cfa2b9a670cbccf6a1e41c553199e9b25f05d953\n",
            "Successfully built rpy2\n",
            "Installing collected packages: rpy2\n",
            "  Attempting uninstall: rpy2\n",
            "    Found existing installation: rpy2 3.4.2\n",
            "    Uninstalling rpy2-3.4.2:\n",
            "      Successfully uninstalled rpy2-3.4.2\n",
            "Successfully installed rpy2-3.5.1\n"
          ]
        }
      ]
    },
    {
      "cell_type": "code",
      "execution_count": 2,
      "metadata": {
        "id": "7v0Zv39Y7MfV"
      },
      "outputs": [],
      "source": [
        "#Ruining R scipts inpython\n",
        "%load_ext rpy2.ipython"
      ]
    },
    {
      "cell_type": "markdown",
      "source": [
        "# ***Primero lo primero:***\n",
        "\n",
        "Vamos a comenzar con nuestra clase de lectura de código en R y Python.\n",
        "\n",
        "Para iniciar, es importante entender qué el código tiene unas báses fundamentales que no podemos dejar de lado. Estos elementos nos ayudarán a comprender el código desde 0.\n",
        "\n",
        "Cuándo hablamos de código tenemos elementos básico que hay que identificar dentro del mismo, lo primero es comprender el \"Qué\"... qué estoy haciendo aquí, con qué quiero trabajar.\n",
        "\n",
        "Como se había mensionado previamente, los lenguajes de programación trabajan algoritmos que pueden ser de la vida cotidiana o algoritmos matemáticos.\n",
        "\n",
        "Bien; si lo pensamos por un momento, la idea de trabajar un lenguaje de programación en un equipo de cómputo será comunicarnos con la maquina mediante el uso de algoritmos matemáticos para así poder introducir en ella todo tipo de algoritmos cotidianos.\n",
        "\n",
        "Así, el fin último será lograr que la maquina entienda agoritmos de la vida cotidina y nos ayude a predecir y controlar nuestros sucesos de la vida cotidiana mediante el uso de la matemática.\n",
        "\n",
        "Por esta razón, para poder comprender el algoritmo de la maquina se necesita primero tener una base de cómo funciona la maquina y para eso es importante comprender los número:\n",
        "```\n",
        "---\n",
        "title: Números/ Numbers:\n",
        "\n",
        "Este es el tipo de datos más usados en R & Python.\n",
        "-Int: Enteros/Integer\n",
        "-long: Entero Long/Long Integers (&)\n",
        "-float: Punto flotante/float point numbers\n",
        "-complex: complejos\n",
        "-bool: boleano.\n",
        "---\n",
        "\n",
        "```\n",
        "##-***Int***:\n",
        "enteros --> 34 , 23, 1, 100, -100, -1, 0.\n",
        "\n",
        "-***Long***: entero long --> números enteros muy largos que se almacentan en formatos de 32 bits y su denominación es la \"&\".\n",
        "\n",
        "##-***Float***:\n",
        "Un entero de punto flotante es un número acompañado de una fracción decimal y pueden ser negativos o positivos. 0.23, 0.55, -2234.2, -1.2.\n",
        "\n",
        "##-***Complejos***:\n",
        "son números que contienen una parte \"imaginaria\" llamara \"i\" que acompañan otro número para hacer referencia a una operación matemática en especial.\"i = (√-1)\"\n",
        "\n",
        "##-***Bool***:\n",
        "los valores boleanos son valores de verdad o falsedad, así estos tendrán únicamente 2 valores \"TRUE/FALSE\" y servirán para asignar instrucciones al codigo (ej: si quiero que algo esté presente en el código puedo asignarle un =TRUE o si deseo que no esté presente le puedo asignar un = FALSE) o se puede usar para evidenciar si algo es real o no en el código mediante el uso de operadores condicionales que veremos más adelante. Por ahora es importante entender que el computador podría respnderme TRUE/FALSE dependiendo de si algo está o no presente en el mis datos.\n",
        "\n",
        "ejemplo"
      ],
      "metadata": {
        "id": "Si79QGZDBjwr"
      }
    },
    {
      "cell_type": "code",
      "source": [
        "b=3\n",
        "#Práctica"
      ],
      "metadata": {
        "id": "E3idMTygKeXo"
      },
      "execution_count": 3,
      "outputs": []
    },
    {
      "cell_type": "code",
      "source": [
        "c=5"
      ],
      "metadata": {
        "id": "y63cZTcfKsZn"
      },
      "execution_count": 4,
      "outputs": []
    },
    {
      "cell_type": "code",
      "source": [
        "d=2"
      ],
      "metadata": {
        "id": "o856IzjVK6XR"
      },
      "execution_count": 5,
      "outputs": []
    },
    {
      "cell_type": "code",
      "source": [
        "e=1500"
      ],
      "metadata": {
        "id": "szM_MqkeLBqQ"
      },
      "execution_count": 6,
      "outputs": []
    },
    {
      "cell_type": "code",
      "source": [
        "b>e"
      ],
      "metadata": {
        "colab": {
          "base_uri": "https://localhost:8080/"
        },
        "id": "wDrVDG9lLLDL",
        "outputId": "2c474782-4804-4c1b-860f-eb625ab54099"
      },
      "execution_count": 7,
      "outputs": [
        {
          "output_type": "execute_result",
          "data": {
            "text/plain": [
              "False"
            ]
          },
          "metadata": {},
          "execution_count": 7
        }
      ]
    },
    {
      "cell_type": "code",
      "source": [
        "b>6"
      ],
      "metadata": {
        "colab": {
          "base_uri": "https://localhost:8080/"
        },
        "id": "3sKFgBEjKjKP",
        "outputId": "4894d9db-393b-494d-aaf2-503558f81904"
      },
      "execution_count": 8,
      "outputs": [
        {
          "output_type": "execute_result",
          "data": {
            "text/plain": [
              "False"
            ]
          },
          "metadata": {},
          "execution_count": 8
        }
      ]
    },
    {
      "cell_type": "code",
      "source": [
        "c>8"
      ],
      "metadata": {
        "colab": {
          "base_uri": "https://localhost:8080/"
        },
        "id": "SQvqfpbGK09H",
        "outputId": "a082027a-63eb-4ea6-a6b4-fd8adeae42dc"
      },
      "execution_count": 9,
      "outputs": [
        {
          "output_type": "execute_result",
          "data": {
            "text/plain": [
              "False"
            ]
          },
          "metadata": {},
          "execution_count": 9
        }
      ]
    },
    {
      "cell_type": "code",
      "source": [
        "d>1"
      ],
      "metadata": {
        "colab": {
          "base_uri": "https://localhost:8080/"
        },
        "id": "SWplk84-K9c5",
        "outputId": "189c4272-dfdf-4f9a-ee7a-ba62902990cf"
      },
      "execution_count": 10,
      "outputs": [
        {
          "output_type": "execute_result",
          "data": {
            "text/plain": [
              "True"
            ]
          },
          "metadata": {},
          "execution_count": 10
        }
      ]
    },
    {
      "cell_type": "code",
      "source": [
        "e>987\n",
        "#Práctica"
      ],
      "metadata": {
        "colab": {
          "base_uri": "https://localhost:8080/"
        },
        "id": "fF61DkMNLD2z",
        "outputId": "8ca40714-9b4c-49ea-cacd-37a76a212d31"
      },
      "execution_count": 11,
      "outputs": [
        {
          "output_type": "execute_result",
          "data": {
            "text/plain": [
              "True"
            ]
          },
          "metadata": {},
          "execution_count": 11
        }
      ]
    },
    {
      "cell_type": "code",
      "source": [
        "%%R\n",
        "a=2\n",
        "#acabo de decirle al computador que a es igual al valor 2\n",
        "#Ahora le pregunto al computador sí a es mayor que 4\n",
        "a>4"
      ],
      "metadata": {
        "colab": {
          "base_uri": "https://localhost:8080/"
        },
        "id": "QUTiy0dZBVrK",
        "outputId": "5528d76f-7407-4fc4-8f2d-6ac18d0af095"
      },
      "execution_count": null,
      "outputs": [
        {
          "output_type": "stream",
          "name": "stdout",
          "text": [
            "[1] FALSE\n"
          ]
        }
      ]
    },
    {
      "cell_type": "markdown",
      "source": [
        "Como vemos el computador responde \"FALSO\" a esa afirmación.\n",
        "\n",
        "Ahora, vamos a iniciar con lo simple:::\n",
        "_____________________________\n",
        "***SUMA signo +***"
      ],
      "metadata": {
        "id": "H8WUBwvGBv7f"
      }
    },
    {
      "cell_type": "code",
      "source": [
        "1+1"
      ],
      "metadata": {
        "colab": {
          "base_uri": "https://localhost:8080/"
        },
        "id": "PP9fnLqRBs3H",
        "outputId": "64bcadc8-0a46-4320-8782-794945d8cec8"
      },
      "execution_count": null,
      "outputs": [
        {
          "output_type": "execute_result",
          "data": {
            "text/plain": [
              "2"
            ]
          },
          "metadata": {},
          "execution_count": 12
        }
      ]
    },
    {
      "cell_type": "markdown",
      "source": [
        "______________________________\n",
        "***RESTA\n",
        "signo -***"
      ],
      "metadata": {
        "id": "vzeXr_dfB7YA"
      }
    },
    {
      "cell_type": "code",
      "source": [
        "10-9"
      ],
      "metadata": {
        "colab": {
          "base_uri": "https://localhost:8080/"
        },
        "id": "Jye0KVyoB6Pl",
        "outputId": "a12d33a9-10ef-4e3d-fa1f-436a406138c4"
      },
      "execution_count": null,
      "outputs": [
        {
          "output_type": "execute_result",
          "data": {
            "text/plain": [
              "1"
            ]
          },
          "metadata": {},
          "execution_count": 11
        }
      ]
    },
    {
      "cell_type": "markdown",
      "source": [
        "____________________________\n",
        "***MULTIPLICACIÓN\n",
        "signo ****"
      ],
      "metadata": {
        "id": "D-AsWTkgB_xF"
      }
    },
    {
      "cell_type": "code",
      "source": [
        "2*3"
      ],
      "metadata": {
        "colab": {
          "base_uri": "https://localhost:8080/"
        },
        "id": "CM2HlXyiCI4j",
        "outputId": "ebaf6771-dcb8-4672-b848-9c9e7345b653"
      },
      "execution_count": null,
      "outputs": [
        {
          "output_type": "execute_result",
          "data": {
            "text/plain": [
              "6"
            ]
          },
          "metadata": {},
          "execution_count": 10
        }
      ]
    },
    {
      "cell_type": "markdown",
      "source": [
        "____________________________\n",
        "***POTENCIACIÓN\n",
        "signo *****"
      ],
      "metadata": {
        "id": "RciagNovCOEE"
      }
    },
    {
      "cell_type": "code",
      "source": [
        "#Esto es igual\n",
        "2*2*2*2"
      ],
      "metadata": {
        "colab": {
          "base_uri": "https://localhost:8080/"
        },
        "id": "1PRXu7rlCV22",
        "outputId": "6004f659-09e2-4f8a-8573-39ec61961e5b"
      },
      "execution_count": null,
      "outputs": [
        {
          "output_type": "execute_result",
          "data": {
            "text/plain": [
              "16"
            ]
          },
          "metadata": {},
          "execution_count": 9
        }
      ]
    },
    {
      "cell_type": "code",
      "source": [
        "#Qué eso, pero esto, es correctamente escrito.\n",
        "2**4"
      ],
      "metadata": {
        "colab": {
          "base_uri": "https://localhost:8080/"
        },
        "id": "7DUn4tlBCQ4K",
        "outputId": "e34df10e-ca43-4671-ca9a-b5c5d2003cd1"
      },
      "execution_count": null,
      "outputs": [
        {
          "output_type": "execute_result",
          "data": {
            "text/plain": [
              "16"
            ]
          },
          "metadata": {},
          "execution_count": 8
        }
      ]
    },
    {
      "cell_type": "markdown",
      "source": [
        "___________________________\n",
        "***DIVICIÓN/MODULO\n",
        "signo %***"
      ],
      "metadata": {
        "id": "oDHD96v9Cavk"
      }
    },
    {
      "cell_type": "code",
      "source": [
        "4%2"
      ],
      "metadata": {
        "colab": {
          "base_uri": "https://localhost:8080/"
        },
        "id": "daG4QOIVCaRT",
        "outputId": "f851ec03-84f9-4951-a450-5ec16644b514"
      },
      "execution_count": null,
      "outputs": [
        {
          "output_type": "execute_result",
          "data": {
            "text/plain": [
              "0"
            ]
          },
          "metadata": {},
          "execution_count": 6
        }
      ]
    },
    {
      "cell_type": "markdown",
      "source": [
        "PRIMACIA DE OPERACIONES\n",
        "```\n",
        "2+3*5+5\n",
        "```\n",
        "--> En este caso priman las operaciones de potenciación, luego la multipricación, la división, la resta y luego la suma... en este caso primará\n",
        "```\n",
        "3*5\n",
        "```\n",
        ", luego le sumo el 2 y luego 5."
      ],
      "metadata": {
        "id": "-Xysm9WFCjhu"
      }
    },
    {
      "cell_type": "code",
      "source": [
        "2+3*5+5\n",
        "#Práctica"
      ],
      "metadata": {
        "colab": {
          "base_uri": "https://localhost:8080/"
        },
        "id": "jU3SHCsiClI6",
        "outputId": "798979d6-0ea1-499b-88cd-9f3f61e188aa"
      },
      "execution_count": 12,
      "outputs": [
        {
          "output_type": "execute_result",
          "data": {
            "text/plain": [
              "22"
            ]
          },
          "metadata": {},
          "execution_count": 12
        }
      ]
    },
    {
      "cell_type": "markdown",
      "source": [
        "Si quiero que el orden del resultado se vea afectado, entonces deberé usar los paréntesis para alterar el orden de los resultados."
      ],
      "metadata": {
        "id": "gCxDRvcVCp-A"
      }
    },
    {
      "cell_type": "code",
      "source": [
        "(2+3)*(5+5)\n",
        "#Práctica"
      ],
      "metadata": {
        "colab": {
          "base_uri": "https://localhost:8080/"
        },
        "id": "NubdDDx9Cqes",
        "outputId": "736287fd-cce0-4c2a-fba1-36df6c541559"
      },
      "execution_count": 13,
      "outputs": [
        {
          "output_type": "execute_result",
          "data": {
            "text/plain": [
              "50"
            ]
          },
          "metadata": {},
          "execution_count": 13
        }
      ]
    },
    {
      "cell_type": "code",
      "source": [
        "1+1+1-1+(1*1)%1\n",
        "#Práctica"
      ],
      "metadata": {
        "colab": {
          "base_uri": "https://localhost:8080/"
        },
        "id": "Dkf2do7ULZGU",
        "outputId": "6a28f450-85be-4bf2-e385-f125dc2ed641"
      },
      "execution_count": 14,
      "outputs": [
        {
          "output_type": "execute_result",
          "data": {
            "text/plain": [
              "2"
            ]
          },
          "metadata": {},
          "execution_count": 14
        }
      ]
    },
    {
      "cell_type": "code",
      "source": [
        "25**2+(3-5)\n",
        "#Práctica"
      ],
      "metadata": {
        "colab": {
          "base_uri": "https://localhost:8080/"
        },
        "id": "wcjgHChnLh-V",
        "outputId": "639334f4-90ba-4116-e949-757823a5fab9"
      },
      "execution_count": 15,
      "outputs": [
        {
          "output_type": "execute_result",
          "data": {
            "text/plain": [
              "623"
            ]
          },
          "metadata": {},
          "execution_count": 15
        }
      ]
    },
    {
      "cell_type": "markdown",
      "source": [
        "# ***__________Asignación de valores numéricos a una variable.***\n",
        "\n",
        "Es importante recordar que ***no deberé asignar un nombre de una variable con un número primero o un símbolo*** ya que ni python ni R van a poder entender esta asignación de variables y será un trabajo perdido.\n",
        "\n",
        "Si rerodamos el ejemplo de arriba, sobre los valores boleanos, dijimos que yo podía asignar valores numéricos a algunas letras, en este caso dije que a sería igual a 2"
      ],
      "metadata": {
        "id": "-_lbBxgrCujC"
      }
    },
    {
      "cell_type": "code",
      "source": [
        "a=2\n",
        "a"
      ],
      "metadata": {
        "colab": {
          "base_uri": "https://localhost:8080/"
        },
        "id": "3Dqg5liYC65o",
        "outputId": "85ac6e19-04b3-4616-905c-4af6b998328b"
      },
      "execution_count": null,
      "outputs": [
        {
          "output_type": "execute_result",
          "data": {
            "text/plain": [
              "2"
            ]
          },
          "metadata": {},
          "execution_count": 25
        }
      ]
    },
    {
      "cell_type": "code",
      "source": [
        "Pepito=1\n",
        "#Práctica"
      ],
      "metadata": {
        "id": "nmKY9nFRNffu"
      },
      "execution_count": 16,
      "outputs": []
    },
    {
      "cell_type": "code",
      "source": [
        "Variable_1=2"
      ],
      "metadata": {
        "id": "SOHISGNGNk8P"
      },
      "execution_count": 18,
      "outputs": []
    },
    {
      "cell_type": "code",
      "source": [
        "Variable_2=3\n",
        "#Práctica"
      ],
      "metadata": {
        "id": "hY60oxZxNu9s"
      },
      "execution_count": 17,
      "outputs": []
    },
    {
      "cell_type": "markdown",
      "source": [
        "Bien, esto se conoce como asignación de una variable y estaré diciendole a R o a Python que esta letra será igual a una variable que contendrá dentro de sí un valor. ¿Cuál valor?, bueno el que yo desee asignarle.\n",
        "\n",
        "En alfabetización digital este procedimiento se lée como:\n",
        "\n",
        "*Estoy asignando un valor de 2 a la variable 2, o, asignaré 2 a una variable llamada a*\n",
        " otros ejemplos de asignación pueden ser."
      ],
      "metadata": {
        "id": "O5YBT4P6DBO9"
      }
    },
    {
      "cell_type": "code",
      "source": [
        "a=2\n",
        "perro= 230495\n",
        "#puedo asignar variables más complejas, por ejemplo\n",
        "suma= 2+2\n",
        "resta=100-10\n"
      ],
      "metadata": {
        "id": "IyLXEof-DDkF"
      },
      "execution_count": 20,
      "outputs": []
    },
    {
      "cell_type": "code",
      "source": [
        "suma= 5+5*5\n",
        "resta= 80-40+10\n",
        "multiplicación= 4*2+2\n",
        "división= 8/2+6"
      ],
      "metadata": {
        "id": "EyS5olJaOWbW"
      },
      "execution_count": 21,
      "outputs": []
    },
    {
      "cell_type": "markdown",
      "source": [
        "Una vez haya creado una variale puedo llamar su resultado o puedo llamar el valor que esta contenga dentro de sí.\n",
        "\n",
        "En python y R existe la orden print() que imprimirá en pantalla lo que sea que esté llamando, así"
      ],
      "metadata": {
        "id": "nyltH8o5DTyo"
      }
    },
    {
      "cell_type": "code",
      "source": [
        "print(a)\n",
        "print(perro)\n",
        "print(suma)\n",
        "print(resta)"
      ],
      "metadata": {
        "colab": {
          "base_uri": "https://localhost:8080/"
        },
        "id": "j8lArMm3DGpn",
        "outputId": "87c00b1f-93af-44d2-d2db-9f5cfb4c797d"
      },
      "execution_count": 22,
      "outputs": [
        {
          "output_type": "stream",
          "name": "stdout",
          "text": [
            "2\n",
            "230495\n",
            "30\n",
            "50\n"
          ]
        }
      ]
    },
    {
      "cell_type": "code",
      "source": [
        "print(Pepito)\n",
        "print(Variable_1)\n",
        "print(Variable_2)\n",
        "print(suma)\n",
        "print(resta)\n",
        "print(multiplicación)\n",
        "print(división)\n",
        "#Práctica"
      ],
      "metadata": {
        "colab": {
          "base_uri": "https://localhost:8080/"
        },
        "id": "UmE48gyOPr1X",
        "outputId": "81728807-e43c-447c-cf8d-75ab1bc9a55f"
      },
      "execution_count": 23,
      "outputs": [
        {
          "output_type": "stream",
          "name": "stdout",
          "text": [
            "1\n",
            "2\n",
            "3\n",
            "30\n",
            "50\n",
            "10\n",
            "10.0\n"
          ]
        }
      ]
    },
    {
      "cell_type": "markdown",
      "source": [
        "Como vemos, el lenguaje lo que hace es regresar los valores correspondientes a la variable que previamente he creado.\n",
        "\n",
        "Dentro de las hojas de trabajo de google colab y también dentro del entorno de Rstudio cloud, se puede practicar cualquiera de estos enunciados que hemos visto aquí. Mi recomendación es practicar las primeras sencencias de lectura de código para poder tener práctica en el proceso."
      ],
      "metadata": {
        "id": "4DYqYfnFDcON"
      }
    },
    {
      "cell_type": "markdown",
      "source": [
        "# _________________________________Operaciones con variables\n",
        "\n",
        "Tomemos por ejemplo una formula simple\n",
        "y= a+bx"
      ],
      "metadata": {
        "id": "XZZOSq5BDgMP"
      }
    },
    {
      "cell_type": "code",
      "source": [
        "%%R\n",
        "a=2\n",
        "b=3\n",
        "x=4"
      ],
      "metadata": {
        "id": "wtK9Wc6mXBOt"
      },
      "execution_count": 24,
      "outputs": []
    },
    {
      "cell_type": "code",
      "source": [
        "a=5\n",
        "b=8\n",
        "x=4\n",
        "#Práctica"
      ],
      "metadata": {
        "id": "i-EQ-aZLR5xJ"
      },
      "execution_count": 25,
      "outputs": []
    },
    {
      "cell_type": "code",
      "source": [
        "v=2\n",
        "w=4\n",
        "z=6\n",
        "#Práctica"
      ],
      "metadata": {
        "id": "awcvWpsKS-z_"
      },
      "execution_count": 26,
      "outputs": []
    },
    {
      "cell_type": "markdown",
      "source": [
        "Así, ya he definido todos los valores, ahora voy a proceder a despejar la formula, o más bien, a permitir que el lenguaje de programación lo haga por mi de forma intuitiva. Para eso necesito escribirlos en una forma en a que el lenguaje deprogramación me pueda entender coherentemente:"
      ],
      "metadata": {
        "id": "cFhEO-03XKVW"
      }
    },
    {
      "cell_type": "code",
      "source": [
        "%%R\n",
        "y= a+(b*x)"
      ],
      "metadata": {
        "id": "UdX_Z7ofXK7u"
      },
      "execution_count": 27,
      "outputs": []
    },
    {
      "cell_type": "code",
      "source": [
        "y= a+(b*x)"
      ],
      "metadata": {
        "id": "LZuMFw2jSDlk"
      },
      "execution_count": 28,
      "outputs": []
    },
    {
      "cell_type": "markdown",
      "source": [
        "bien ahora llamaré el valor de y,"
      ],
      "metadata": {
        "id": "mfti24z7XXST"
      }
    },
    {
      "cell_type": "code",
      "source": [
        "%%R\n",
        "print(y)"
      ],
      "metadata": {
        "colab": {
          "base_uri": "https://localhost:8080/"
        },
        "id": "c8zsgdNtXYxj",
        "outputId": "8534ca9c-9b40-4c7d-d647-9b8e88389c9c"
      },
      "execution_count": 29,
      "outputs": [
        {
          "output_type": "stream",
          "name": "stdout",
          "text": [
            "[1] 14\n"
          ]
        }
      ]
    },
    {
      "cell_type": "code",
      "source": [
        "print(y)\n",
        "#Práctica"
      ],
      "metadata": {
        "colab": {
          "base_uri": "https://localhost:8080/"
        },
        "id": "sOdluuLJSIPM",
        "outputId": "d16184c3-23d9-4d31-e31c-c39bfcb985a0"
      },
      "execution_count": 30,
      "outputs": [
        {
          "output_type": "stream",
          "name": "stdout",
          "text": [
            "37\n"
          ]
        }
      ]
    },
    {
      "cell_type": "markdown",
      "source": [
        "también puedo simplemente llamar mi valor"
      ],
      "metadata": {
        "id": "2ppeQieLXfbT"
      }
    },
    {
      "cell_type": "code",
      "source": [
        "%%R\n",
        "y"
      ],
      "metadata": {
        "colab": {
          "base_uri": "https://localhost:8080/"
        },
        "id": "D9NDxCFkXgy3",
        "outputId": "22115424-833e-4234-9206-98a73954c279"
      },
      "execution_count": 33,
      "outputs": [
        {
          "output_type": "stream",
          "name": "stdout",
          "text": [
            "[1] 14\n"
          ]
        }
      ]
    },
    {
      "cell_type": "code",
      "source": [
        "y\n",
        "#Práctica"
      ],
      "metadata": {
        "colab": {
          "base_uri": "https://localhost:8080/"
        },
        "id": "Xw4deJtPSNek",
        "outputId": "82024009-a737-4de2-cf82-5024f32b33e3"
      },
      "execution_count": 32,
      "outputs": [
        {
          "output_type": "execute_result",
          "data": {
            "text/plain": [
              "37"
            ]
          },
          "metadata": {},
          "execution_count": 32
        }
      ]
    },
    {
      "cell_type": "markdown",
      "source": [
        "Ahora vamos un poco más allá en el código.\n",
        "\n",
        "Aquí inicia lo bueno de la clase, vamos a comenzar a leer código de R y Python... Leamos la siguiente línea de código:\n",
        "\n",
        "se lee así:\n",
        "*A una variable llamada formula que contendrá dentro de sí las variables y=a+bx*"
      ],
      "metadata": {
        "id": "WVXMky6UXlhw"
      }
    },
    {
      "cell_type": "code",
      "source": [
        "%%R\n",
        "formula=y=(a+(b*x))"
      ],
      "metadata": {
        "id": "AUJI7R7VXpxP"
      },
      "execution_count": 34,
      "outputs": []
    },
    {
      "cell_type": "code",
      "source": [
        "Pepito=y=(v+(w*z))\n",
        "print(Pepito)\n",
        "#Práctica"
      ],
      "metadata": {
        "colab": {
          "base_uri": "https://localhost:8080/"
        },
        "id": "ebSx3FT1SYnW",
        "outputId": "198071fe-bf30-4b78-b600-de917edf5552"
      },
      "execution_count": 35,
      "outputs": [
        {
          "output_type": "stream",
          "name": "stdout",
          "text": [
            "26\n"
          ]
        }
      ]
    },
    {
      "cell_type": "code",
      "source": [
        "Gatos=(z-v*(w+y))"
      ],
      "metadata": {
        "id": "zvMZsv3CTIud"
      },
      "execution_count": 36,
      "outputs": []
    },
    {
      "cell_type": "code",
      "source": [
        "print(Gatos)\n",
        "#Práctica"
      ],
      "metadata": {
        "colab": {
          "base_uri": "https://localhost:8080/"
        },
        "id": "E6BFYVU-TYFO",
        "outputId": "d1e43e02-0037-47a0-c0b9-e981265c405f"
      },
      "execution_count": 37,
      "outputs": [
        {
          "output_type": "stream",
          "name": "stdout",
          "text": [
            "-54\n"
          ]
        }
      ]
    },
    {
      "cell_type": "markdown",
      "source": [
        "Cabe aclarar que formula es un nombre que me he inventado... tu podrías llamar a tu variable como quieras... a, perro, casa, maría, reg, o como quieras.\n",
        "\n",
        "***-------------->Otro tipo de variables y asignaciones***\n",
        "\n",
        "Bien, revisemos ahora algunos elementos adicionales.\n",
        "\n",
        "***_______________________________Cadenas (Strings)***\n",
        "Estos almacenan caracteres, como las letras o el texto.\n",
        "\n",
        "Ni Python ni R van a entender un string como un número, sin importar si dentro hay uno...\n",
        "\n"
      ],
      "metadata": {
        "id": "warLpFaSXusu"
      }
    },
    {
      "cell_type": "code",
      "source": [
        "#En pyton\n",
        "'mi mama me mima, mi mama me ama'\n",
        "\"mi mama me mima, mi mama me ama\""
      ],
      "metadata": {
        "colab": {
          "base_uri": "https://localhost:8080/",
          "height": 36
        },
        "id": "2av2meY2XzSI",
        "outputId": "e757a34a-f1f3-4169-82eb-ed05b2e0de1a"
      },
      "execution_count": 38,
      "outputs": [
        {
          "output_type": "execute_result",
          "data": {
            "text/plain": [
              "'mi mama me mima, mi mama me ama'"
            ],
            "application/vnd.google.colaboratory.intrinsic+json": {
              "type": "string"
            }
          },
          "metadata": {},
          "execution_count": 38
        }
      ]
    },
    {
      "cell_type": "code",
      "source": [
        "%%R\n",
        "#En R\n",
        "'mi mama me mima, mi mama me ama'\n",
        "\"mi mama me mima, mi mama me ama\""
      ],
      "metadata": {
        "colab": {
          "base_uri": "https://localhost:8080/"
        },
        "id": "C399k3jCX-iR",
        "outputId": "f45dc599-50f5-47ab-a8d5-593b14a28184"
      },
      "execution_count": 39,
      "outputs": [
        {
          "output_type": "stream",
          "name": "stdout",
          "text": [
            "[1] \"mi mama me mima, mi mama me ama\"\n"
          ]
        }
      ]
    },
    {
      "cell_type": "code",
      "source": [
        "\"   \""
      ],
      "metadata": {
        "colab": {
          "base_uri": "https://localhost:8080/",
          "height": 36
        },
        "id": "2GMmI0WO9Tus",
        "outputId": "fb80e0ba-ec5a-4fe1-c0dd-d1a82103c43a"
      },
      "execution_count": 41,
      "outputs": [
        {
          "output_type": "execute_result",
          "data": {
            "text/plain": [
              "'   '"
            ],
            "application/vnd.google.colaboratory.intrinsic+json": {
              "type": "string"
            }
          },
          "metadata": {},
          "execution_count": 41
        }
      ]
    },
    {
      "cell_type": "code",
      "source": [
        "#¿Similar a los vectores utilizados en R?\n",
        "\"parangaricutirimicuaro\"\n",
        "\"שלום עולם\"\n",
        "#Práctica"
      ],
      "metadata": {
        "colab": {
          "base_uri": "https://localhost:8080/",
          "height": 36
        },
        "id": "aZWwJeHRUcg3",
        "outputId": "f33c9c7e-528c-4ed5-8238-d5d66b9b2042"
      },
      "execution_count": 43,
      "outputs": [
        {
          "output_type": "execute_result",
          "data": {
            "text/plain": [
              "'שלום עולם'"
            ],
            "application/vnd.google.colaboratory.intrinsic+json": {
              "type": "string"
            }
          },
          "metadata": {},
          "execution_count": 43
        }
      ]
    },
    {
      "cell_type": "markdown",
      "source": [
        "En ámbos lenguajes de programación se pueden usar con comillas sencillas o con comillas dobles.\n",
        "\n",
        "```\n",
        "'mi mama me mima, mi mama me ama\n",
        "\n",
        "---> SyntaxError: EOL while scanning string literal (<string>, line 1)\n",
        "```\n",
        "\n",
        "\n",
        "Como vemos, en ámbos lenguajes de programación, si yo no cierro las comillas, entonces se generará un error, porque el lenguaje entenderá que deseo seguir escribiendo una línea de caracteres y que la orden quedó imcompleta.\n",
        "\n",
        "Es importante acostumbrarnos poco a poco a los errores, entenderlos y comprenderlos.\n",
        "\n",
        "Ya veremos algunasclases en el curso dedicadas a los tipos de errores más comunes.\n",
        "\n",
        "Ahora bien, yo puedo indexar los elementos de una cadena dentro de una variable."
      ],
      "metadata": {
        "id": "hWrTnhfHYHAx"
      }
    },
    {
      "cell_type": "code",
      "source": [
        "a='mi mama me mima, mi mama me ama'\n",
        "b=\"mi mama me mima, mi mama me ama\""
      ],
      "metadata": {
        "id": "ighsSZEpYHw-"
      },
      "execution_count": 44,
      "outputs": []
    },
    {
      "cell_type": "code",
      "source": [
        "a= \"Me gusta el Chocapic\"\n",
        "b= \"Pato, pato, ¡Ganso!\"\n",
        "#Práctica"
      ],
      "metadata": {
        "id": "T3blYaeQWEu8"
      },
      "execution_count": 45,
      "outputs": []
    },
    {
      "cell_type": "markdown",
      "source": [
        "Y será necesario llamar a la variable para ver su contenido"
      ],
      "metadata": {
        "id": "OZikgGu5YPxJ"
      }
    },
    {
      "cell_type": "code",
      "source": [
        "print(a)\n",
        "print(b)\n",
        "#Práctica"
      ],
      "metadata": {
        "colab": {
          "base_uri": "https://localhost:8080/"
        },
        "id": "flbIzbwMYQ7I",
        "outputId": "d13dfa90-20a1-4e0b-9662-2a5006893ed1"
      },
      "execution_count": 46,
      "outputs": [
        {
          "output_type": "stream",
          "name": "stdout",
          "text": [
            "Me gusta el Chocapic\n",
            "Pato, pato, ¡Ganso!\n"
          ]
        }
      ]
    },
    {
      "cell_type": "markdown",
      "source": [
        "Como se anotó prevamente, es importante recordar que el contenido dentro de un string no es comprendido como un número, sin importas si se contiene o no un número dentro del string..."
      ],
      "metadata": {
        "id": "SptaAZ-aYSwV"
      }
    },
    {
      "cell_type": "code",
      "source": [
        "a=\" 343353534 + 34353535\""
      ],
      "metadata": {
        "id": "hfdpFFbvYUKo"
      },
      "execution_count": 47,
      "outputs": []
    },
    {
      "cell_type": "code",
      "source": [
        "f= \"888888+4565106\"\n",
        "#Práctica"
      ],
      "metadata": {
        "id": "IK7vKtpiYpOJ"
      },
      "execution_count": 48,
      "outputs": []
    },
    {
      "cell_type": "markdown",
      "source": [
        "En este caso mi string tiene \" 343353534 + 34353535\" este valor, pero Python no entiende que esto son números sino ***caracteres*** y los va a tratar como tal, entonces si le pido que me regrese el valor."
      ],
      "metadata": {
        "id": "d5Pqn1IHYXFt"
      }
    },
    {
      "cell_type": "code",
      "source": [
        "a"
      ],
      "metadata": {
        "colab": {
          "base_uri": "https://localhost:8080/",
          "height": 36
        },
        "id": "SWw2xIIHYeXa",
        "outputId": "3f47e9e9-4f33-4ef6-c08d-33a0d30ca3d3"
      },
      "execution_count": 49,
      "outputs": [
        {
          "output_type": "execute_result",
          "data": {
            "text/plain": [
              "' 343353534 + 34353535'"
            ],
            "application/vnd.google.colaboratory.intrinsic+json": {
              "type": "string"
            }
          },
          "metadata": {},
          "execution_count": 49
        }
      ]
    },
    {
      "cell_type": "code",
      "source": [
        "f\n",
        "#Práctica"
      ],
      "metadata": {
        "colab": {
          "base_uri": "https://localhost:8080/",
          "height": 36
        },
        "id": "4QeB_lCOYv2i",
        "outputId": "64f37b97-6199-45d9-8925-53dc573bcf92"
      },
      "execution_count": 50,
      "outputs": [
        {
          "output_type": "execute_result",
          "data": {
            "text/plain": [
              "'888888+4565106'"
            ],
            "application/vnd.google.colaboratory.intrinsic+json": {
              "type": "string"
            }
          },
          "metadata": {},
          "execution_count": 50
        }
      ]
    },
    {
      "cell_type": "markdown",
      "source": [
        "Me va a dar como resultado el string que acabo de insertar de forma textual... esto ya que el lenguaje asume que toda la cadena está compuesta de caracteres, incluso los números serán tratados como tal.\n",
        "\n",
        "*importante: en los strings, los espacios vacíos, son contados como caracteres, asíq ue hay que tneer cuidado con dejar espacios vacíos porque el lenguaje igual los contará como caracteres y en algunos casos como minería de datos, si lo que busco es contar el número de palabras o letras podría alterar artificialmente mis resultados... bueno es algo de tratamiento de datos que ya veremos más adelante*\n",
        "\n",
        "Bien, ahora vamos a revisar agunos elementos de los strings.\n",
        "\n",
        "recuerdan mi string a?, bueno aquí está de nuevo"
      ],
      "metadata": {
        "id": "NAIQpT-RYiHB"
      }
    },
    {
      "cell_type": "code",
      "source": [
        "a=\" 343353534 + 34353535\"\n",
        "a1=\" \"\n",
        "a2=\"3\"\n",
        "a3=\"4\"\n",
        "an=inf"
      ],
      "metadata": {
        "id": "3U-xV-pCYlQQ",
        "colab": {
          "base_uri": "https://localhost:8080/",
          "height": 210
        },
        "outputId": "efc14daa-9663-4764-b797-178041a67629"
      },
      "execution_count": null,
      "outputs": [
        {
          "output_type": "error",
          "ename": "NameError",
          "evalue": "ignored",
          "traceback": [
            "\u001b[0;31m---------------------------------------------------------------------------\u001b[0m",
            "\u001b[0;31mNameError\u001b[0m                                 Traceback (most recent call last)",
            "\u001b[0;32m<ipython-input-80-52568511a9c7>\u001b[0m in \u001b[0;36m<cell line: 5>\u001b[0;34m()\u001b[0m\n\u001b[1;32m      3\u001b[0m \u001b[0ma2\u001b[0m\u001b[0;34m=\u001b[0m\u001b[0;34m\"3\"\u001b[0m\u001b[0;34m\u001b[0m\u001b[0;34m\u001b[0m\u001b[0m\n\u001b[1;32m      4\u001b[0m \u001b[0ma3\u001b[0m\u001b[0;34m=\u001b[0m\u001b[0;34m\"4\"\u001b[0m\u001b[0;34m\u001b[0m\u001b[0;34m\u001b[0m\u001b[0m\n\u001b[0;32m----> 5\u001b[0;31m \u001b[0man\u001b[0m\u001b[0;34m=\u001b[0m\u001b[0minf\u001b[0m\u001b[0;34m\u001b[0m\u001b[0;34m\u001b[0m\u001b[0m\n\u001b[0m",
            "\u001b[0;31mNameError\u001b[0m: name 'inf' is not defined"
          ]
        }
      ]
    },
    {
      "cell_type": "code",
      "source": [
        "f= \"888888+4565106\"\n",
        "f1= \"  \"\n",
        "f2= \"5\"\n",
        "f3= \"10\"\n",
        "#Práctica"
      ],
      "metadata": {
        "id": "TmtTx-Fxdunx"
      },
      "execution_count": 51,
      "outputs": []
    },
    {
      "cell_type": "markdown",
      "source": [
        "Sí le pido  python que me traiga el valor 0 del string, entonces él me contará los valores desde el inicio y traerá el valor ubicado en dicha posición... o sea, el espacio vacío que previamente comentamos."
      ],
      "metadata": {
        "id": "UJgy8OzNYnLN"
      }
    },
    {
      "cell_type": "code",
      "source": [
        "a3[0]"
      ],
      "metadata": {
        "colab": {
          "base_uri": "https://localhost:8080/",
          "height": 175
        },
        "id": "D2__Z7lRYooW",
        "outputId": "0fa4b1dd-1124-4631-c876-b8a0e36ce5a7"
      },
      "execution_count": null,
      "outputs": [
        {
          "output_type": "error",
          "ename": "NameError",
          "evalue": "ignored",
          "traceback": [
            "\u001b[0;31m---------------------------------------------------------------------------\u001b[0m",
            "\u001b[0;31mNameError\u001b[0m                                 Traceback (most recent call last)",
            "\u001b[0;32m<ipython-input-57-10c97435acc7>\u001b[0m in \u001b[0;36m<cell line: 1>\u001b[0;34m()\u001b[0m\n\u001b[0;32m----> 1\u001b[0;31m \u001b[0ma3\u001b[0m\u001b[0;34m[\u001b[0m\u001b[0;36m0\u001b[0m\u001b[0;34m]\u001b[0m\u001b[0;34m\u001b[0m\u001b[0;34m\u001b[0m\u001b[0m\n\u001b[0m",
            "\u001b[0;31mNameError\u001b[0m: name 'a3' is not defined"
          ]
        }
      ]
    },
    {
      "cell_type": "code",
      "source": [
        "f3[0]\n",
        "#Práctica"
      ],
      "metadata": {
        "colab": {
          "base_uri": "https://localhost:8080/",
          "height": 35
        },
        "id": "NnLYwl52eFhT",
        "outputId": "b49c60aa-a4d6-4967-df67-8e951435b107"
      },
      "execution_count": null,
      "outputs": [
        {
          "output_type": "execute_result",
          "data": {
            "text/plain": [
              "'1'"
            ],
            "application/vnd.google.colaboratory.intrinsic+json": {
              "type": "string"
            }
          },
          "metadata": {},
          "execution_count": 90
        }
      ]
    },
    {
      "cell_type": "code",
      "source": [
        "a[0]"
      ],
      "metadata": {
        "colab": {
          "base_uri": "https://localhost:8080/",
          "height": 35
        },
        "id": "7D60OathZSiG",
        "outputId": "18301398-d7d1-4b18-b584-c5428439c657"
      },
      "execution_count": null,
      "outputs": [
        {
          "output_type": "execute_result",
          "data": {
            "text/plain": [
              "' '"
            ],
            "application/vnd.google.colaboratory.intrinsic+json": {
              "type": "string"
            }
          },
          "metadata": {},
          "execution_count": 58
        }
      ]
    },
    {
      "cell_type": "markdown",
      "source": [
        "Sin embargo, si le pido que me traiga el valor 1, python me traerá el valor 3, que en este caso será el valor que corresponde a dicho espacio en la cadena."
      ],
      "metadata": {
        "id": "2l_vVGe7YsBD"
      }
    },
    {
      "cell_type": "code",
      "source": [
        "f[0]\n",
        "#Práctica"
      ],
      "metadata": {
        "colab": {
          "base_uri": "https://localhost:8080/",
          "height": 35
        },
        "id": "k9Dv__p0eR1d",
        "outputId": "0ecf85e6-0dd8-4d7d-c207-32a5e9f26d12"
      },
      "execution_count": null,
      "outputs": [
        {
          "output_type": "execute_result",
          "data": {
            "text/plain": [
              "'8'"
            ],
            "application/vnd.google.colaboratory.intrinsic+json": {
              "type": "string"
            }
          },
          "metadata": {},
          "execution_count": 91
        }
      ]
    },
    {
      "cell_type": "code",
      "source": [
        "a[1]"
      ],
      "metadata": {
        "colab": {
          "base_uri": "https://localhost:8080/",
          "height": 35
        },
        "id": "ykcIfgoJYueF",
        "outputId": "dd94cb98-04e2-4bf7-bd22-19cf9c9932f4"
      },
      "execution_count": null,
      "outputs": [
        {
          "output_type": "execute_result",
          "data": {
            "text/plain": [
              "'3'"
            ],
            "application/vnd.google.colaboratory.intrinsic+json": {
              "type": "string"
            }
          },
          "metadata": {},
          "execution_count": 59
        }
      ]
    },
    {
      "cell_type": "code",
      "source": [
        "f[1]\n",
        "#Práctica"
      ],
      "metadata": {
        "colab": {
          "base_uri": "https://localhost:8080/",
          "height": 35
        },
        "id": "9tdYYA22edUR",
        "outputId": "57a72b44-d641-49cc-88c6-2cfd26387c78"
      },
      "execution_count": null,
      "outputs": [
        {
          "output_type": "execute_result",
          "data": {
            "text/plain": [
              "'8'"
            ],
            "application/vnd.google.colaboratory.intrinsic+json": {
              "type": "string"
            }
          },
          "metadata": {},
          "execution_count": 92
        }
      ]
    },
    {
      "cell_type": "markdown",
      "source": [
        "En R hay unas sutiles diferencias con el tema de los strings y es que en R la cadena de string se entiende como un elemento compuesto, así si declaro a"
      ],
      "metadata": {
        "id": "DhVChwbRYwTf"
      }
    },
    {
      "cell_type": "code",
      "source": [
        "%%R\n",
        "a=\" 343353534 + 34353535\""
      ],
      "metadata": {
        "id": "3RkVMqaIYx2P"
      },
      "execution_count": null,
      "outputs": []
    },
    {
      "cell_type": "code",
      "source": [
        "z= \"88888+55555\"\n",
        "#Práctica"
      ],
      "metadata": {
        "id": "HfTZ9NOueip9"
      },
      "execution_count": null,
      "outputs": []
    },
    {
      "cell_type": "markdown",
      "source": [
        "y luego le pido a R que llame mi valor 0"
      ],
      "metadata": {
        "id": "pMqawWZFY1kU"
      }
    },
    {
      "cell_type": "code",
      "source": [
        "%%R\n",
        "a[0]"
      ],
      "metadata": {
        "colab": {
          "base_uri": "https://localhost:8080/"
        },
        "id": "QnOaFc4-Y7yN",
        "outputId": "513f536f-6152-4001-819b-914a99231fb0"
      },
      "execution_count": null,
      "outputs": [
        {
          "output_type": "stream",
          "name": "stdout",
          "text": [
            "character(0)\n"
          ]
        }
      ]
    },
    {
      "cell_type": "code",
      "source": [
        "z[0]\n",
        "#Práctica (No sé porqué me sale 8 jajaja)"
      ],
      "metadata": {
        "colab": {
          "base_uri": "https://localhost:8080/",
          "height": 35
        },
        "id": "dbKiMuyYeyGy",
        "outputId": "28cc592f-cc14-4fb4-bf3b-4bddebfe7633"
      },
      "execution_count": null,
      "outputs": [
        {
          "output_type": "execute_result",
          "data": {
            "text/plain": [
              "'8'"
            ],
            "application/vnd.google.colaboratory.intrinsic+json": {
              "type": "string"
            }
          },
          "metadata": {},
          "execution_count": 98
        }
      ]
    },
    {
      "cell_type": "markdown",
      "source": [
        "R me dirá que el valor 0 del caracter 0 es 0 (valga la redundancia)\n",
        "Esto se debe a que R entiende que el string que acabo de generar tiene 1 solo valor compuesto por toda una cadena de caracteres, así, si llamo el valor 1 de a"
      ],
      "metadata": {
        "id": "3tDX9GDhY_LV"
      }
    },
    {
      "cell_type": "code",
      "source": [
        "%%R\n",
        "a[1]"
      ],
      "metadata": {
        "colab": {
          "base_uri": "https://localhost:8080/"
        },
        "id": "9AvL53STZAUE",
        "outputId": "f11132cd-edf3-405e-e728-719afbf01a12"
      },
      "execution_count": null,
      "outputs": [
        {
          "output_type": "stream",
          "name": "stdout",
          "text": [
            "[1] \" 343353534 + 34353535\"\n"
          ]
        }
      ]
    },
    {
      "cell_type": "code",
      "source": [
        "z[1]\n",
        "#Práctica"
      ],
      "metadata": {
        "colab": {
          "base_uri": "https://localhost:8080/",
          "height": 35
        },
        "id": "iwWvnHTXfAHr",
        "outputId": "97354e71-93ef-49aa-e631-fc0a475c280f"
      },
      "execution_count": null,
      "outputs": [
        {
          "output_type": "execute_result",
          "data": {
            "text/plain": [
              "'8'"
            ],
            "application/vnd.google.colaboratory.intrinsic+json": {
              "type": "string"
            }
          },
          "metadata": {},
          "execution_count": 99
        }
      ]
    },
    {
      "cell_type": "markdown",
      "source": [
        "R me dará como resultado todo mi string que contiene 1 solo valor \" 343353534 + 34353535\"\n",
        "\n",
        "*diferencias entre lenguajes*\n",
        "\n",
        "Ahora, en python puedo pedirle al código que me traiga los valores de a que están ubicados desde 0 hasta el 9"
      ],
      "metadata": {
        "id": "0WvXFvzzZEdV"
      }
    },
    {
      "cell_type": "code",
      "source": [
        "a=\" 343353534 + 34353535\""
      ],
      "metadata": {
        "id": "l9G56zGP1HRK"
      },
      "execution_count": null,
      "outputs": []
    },
    {
      "cell_type": "code",
      "source": [
        "a[0:9]"
      ],
      "metadata": {
        "colab": {
          "base_uri": "https://localhost:8080/",
          "height": 35
        },
        "id": "Y5EqwMtOZGIN",
        "outputId": "ec5946a0-7cf2-477d-db5e-9613697b96b8"
      },
      "execution_count": null,
      "outputs": [
        {
          "output_type": "execute_result",
          "data": {
            "text/plain": [
              "'88888+555'"
            ],
            "application/vnd.google.colaboratory.intrinsic+json": {
              "type": "string"
            }
          },
          "metadata": {},
          "execution_count": 100
        }
      ]
    },
    {
      "cell_type": "markdown",
      "source": [
        "También podría pedirle que salte de a 2 espacios\n",
        "pero para entenderlo más fácil definamos otra variable llamara \"todos mis amigos están reunidos hoy en la cada de Juan\""
      ],
      "metadata": {
        "id": "7a92-S4BZIrL"
      }
    },
    {
      "cell_type": "code",
      "source": [
        "a=\"todos mis amigos están reunidos hoy en la cada de Juan\""
      ],
      "metadata": {
        "id": "FyqVqvGsZKQ6"
      },
      "execution_count": null,
      "outputs": []
    },
    {
      "cell_type": "markdown",
      "source": [
        "Ahora pediré que llame caracteres saltando de a 2 espacios."
      ],
      "metadata": {
        "id": "1cuzKzwKZNH3"
      }
    },
    {
      "cell_type": "code",
      "source": [
        "a[0::2]"
      ],
      "metadata": {
        "colab": {
          "base_uri": "https://localhost:8080/",
          "height": 35
        },
        "id": "_GQit_LSZOWO",
        "outputId": "fa85acc2-94ad-4302-8ac2-8b96cb96f3fa"
      },
      "execution_count": null,
      "outputs": [
        {
          "output_type": "execute_result",
          "data": {
            "text/plain": [
              "'888555'"
            ],
            "application/vnd.google.colaboratory.intrinsic+json": {
              "type": "string"
            }
          },
          "metadata": {},
          "execution_count": 101
        }
      ]
    },
    {
      "cell_type": "markdown",
      "source": [
        "Así el código cada dós caracteres llama el valor que corresponde."
      ],
      "metadata": {
        "id": "ha341k73ZQia"
      }
    },
    {
      "cell_type": "markdown",
      "source": [
        "# ***-------->Elementos de algomeración de datos en R & Python.***\n",
        "\n",
        "En R, el fundamento del código se basa en los vectores y las matrices.\n",
        "\n",
        "Vemos los"
      ],
      "metadata": {
        "id": "9cIqkOcWU7FW"
      }
    },
    {
      "cell_type": "markdown",
      "source": [
        "##-------->***Vectores***\n",
        "\n",
        "![Screenshot from 2023-02-14 09-48-58.png](data:image/png;base64,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)\n",
        "\n",
        "\n",
        "Voy a definir dos vectores"
      ],
      "metadata": {
        "id": "EbtaR6UIZTRR"
      }
    },
    {
      "cell_type": "code",
      "source": [
        "%%R\n",
        "a = c(2,4,1,8)\n",
        "b = c(2,2,2,2)"
      ],
      "metadata": {
        "id": "0OYTjUYwZeL0"
      },
      "execution_count": null,
      "outputs": []
    },
    {
      "cell_type": "code",
      "source": [
        "%%R\n",
        "#Puedo poseer diferentes tipos de vectores\n",
        "vector_double <-c(1, 2.5, 4.5, 25)\n",
        "vector_double\n"
      ],
      "metadata": {
        "colab": {
          "base_uri": "https://localhost:8080/"
        },
        "id": "06NAguHXToGE",
        "outputId": "e4ca4f4a-58a2-4821-ee71-80c093d275f2"
      },
      "execution_count": null,
      "outputs": [
        {
          "output_type": "stream",
          "name": "stdout",
          "text": [
            "[1]  1.0  2.5  4.5 25.0\n"
          ]
        }
      ]
    },
    {
      "cell_type": "markdown",
      "source": [
        "Pero los vectores pueden ser tan complejos como considere necesario, por ejemplo, puedo emzclar diferentes tipos de elementos en un vector."
      ],
      "metadata": {
        "id": "P9_bX9R1T3wi"
      }
    },
    {
      "cell_type": "code",
      "source": [
        "%%R\n",
        "vector_character <-c(\"Hola\",\"Mundo!\",\"4343434\",\"ssfkjdfdkjflkshfklj\",\"3\",\"4\")\n",
        "segundavar= c(TRUE,FALSE,FALSE,TRUE)\n",
        "vector_character"
      ],
      "metadata": {
        "colab": {
          "base_uri": "https://localhost:8080/"
        },
        "id": "2joqAN6oTx7f",
        "outputId": "4ef00f24-6e23-497a-e920-3e644f33c1cf"
      },
      "execution_count": null,
      "outputs": [
        {
          "output_type": "stream",
          "name": "stdout",
          "text": [
            "[1] \"Hola\"                \"Mundo!\"              \"4343434\"            \n",
            "[4] \"ssfkjdfdkjflkshfklj\" \"3\"                   \"4\"                  \n"
          ]
        }
      ]
    },
    {
      "cell_type": "code",
      "source": [
        "%%R\n",
        "#Length nos ayuda a conocer la longitud de cualquier vector.\n",
        "print(length(vector_double))\n",
        "print(length(vector_character))\n",
        "print(length(segundavar))"
      ],
      "metadata": {
        "colab": {
          "base_uri": "https://localhost:8080/"
        },
        "id": "CB0YNw9JVnBY",
        "outputId": "93eb79f3-ff88-455c-a924-5bf9ae4894fe"
      },
      "execution_count": null,
      "outputs": [
        {
          "output_type": "stream",
          "name": "stdout",
          "text": [
            "[1] 4\n",
            "[1] 6\n",
            "[1] 4\n"
          ]
        }
      ]
    },
    {
      "cell_type": "markdown",
      "source": [
        "###Operaciones vectorizadas"
      ],
      "metadata": {
        "id": "ZJSsJjBuWP8N"
      }
    },
    {
      "cell_type": "code",
      "source": [
        "%%R\n",
        "#Operaciones Vectorizadas-------------------------------------------------------------\n",
        "c<-a+b\n",
        "c\n"
      ],
      "metadata": {
        "id": "-mQ-xGGIWEyu",
        "colab": {
          "base_uri": "https://localhost:8080/"
        },
        "outputId": "0f0788a6-dcd6-4dc4-8640-91e1048b84f4"
      },
      "execution_count": null,
      "outputs": [
        {
          "output_type": "stream",
          "name": "stdout",
          "text": [
            "[1]  4  6  3 10\n"
          ]
        }
      ]
    },
    {
      "cell_type": "code",
      "source": [
        "%%R\n",
        "j<-a/b\n",
        "j"
      ],
      "metadata": {
        "colab": {
          "base_uri": "https://localhost:8080/"
        },
        "id": "E3TxzzL54qgP",
        "outputId": "c073a75e-fe51-4d4f-b33a-aca9c25742a1"
      },
      "execution_count": null,
      "outputs": [
        {
          "output_type": "stream",
          "name": "stdout",
          "text": [
            "[1] 1.0 2.0 0.5 4.0\n"
          ]
        }
      ]
    },
    {
      "cell_type": "markdown",
      "source": [
        "###***El reciclaje de vectores.***\n",
        "\n",
        "R está programado para realizar casi todos sus algoritmos en base a vectores y matrices; por tal motivo los desarrolladores del lenguaje han optado por hacer un código que recicla operaciones vecotirles siendo un código más eficiente en los resultados.\n"
      ],
      "metadata": {
        "id": "8yCGdBwxWald"
      }
    },
    {
      "cell_type": "code",
      "source": [
        "%%R\n",
        "#supongamos que tenemos dos vectores a y b\n",
        "a<-c(1,2)\n",
        "b<-c(1,2,3,4,5,6,7,8,9)\n"
      ],
      "metadata": {
        "id": "K3JINH8mWWxS"
      },
      "execution_count": null,
      "outputs": []
    },
    {
      "cell_type": "code",
      "source": [
        "%%R\n",
        "#pero deseamos crear una operaicón con estos dos vectores sumandolos\n",
        "d<-a+b\n",
        "d"
      ],
      "metadata": {
        "colab": {
          "base_uri": "https://localhost:8080/"
        },
        "id": "gtod7b4_XYu8",
        "outputId": "777a9603-9dc1-4a95-f5bd-4470eb2e0a98"
      },
      "execution_count": null,
      "outputs": [
        {
          "output_type": "stream",
          "name": "stdout",
          "text": [
            "[1]  2  4  4  6  6  8  8 10 10\n"
          ]
        }
      ]
    },
    {
      "cell_type": "markdown",
      "source": [
        "Qué pasó?\n",
        "\n",
        "Veremos que el resultado de ellos es la suma de las dos primeras partes del vector y R recicla la otra parte del vector para no perder datos"
      ],
      "metadata": {
        "id": "uPdNlydFXkU7"
      }
    },
    {
      "cell_type": "code",
      "source": [
        "%%R\n",
        "a=c(1,4,6,8)\n",
        "b=c(9,8)\n",
        "c=c(\"blanco\",\"gris\",\"rojo\",\"negro\")\n",
        "d=c(\"purpura\",\"cafe\",\"verde\",\"azul\")\n",
        "e=c(1,9,5)\n",
        "f=c(8,6,3,8,9,5)"
      ],
      "metadata": {
        "id": "G4vNYVb7Xc6j"
      },
      "execution_count": null,
      "outputs": []
    },
    {
      "cell_type": "markdown",
      "source": [
        "Pueso también hacer uniones de vectores por filas o por columnas, dependiendo de lo que desee obtener como resultado."
      ],
      "metadata": {
        "id": "-6GS_AGPYFom"
      }
    },
    {
      "cell_type": "code",
      "source": [
        "%%R\n",
        "g=cbind(a,b) #Cbind --- Unión por columnas.\n",
        "h=rbind(c,d) #Rowbind ---Unión filas.\n"
      ],
      "metadata": {
        "id": "TamCU7DUXyV8"
      },
      "execution_count": null,
      "outputs": []
    },
    {
      "cell_type": "code",
      "source": [
        "%%R\n",
        "print(g)\n",
        "print(h)"
      ],
      "metadata": {
        "colab": {
          "base_uri": "https://localhost:8080/"
        },
        "id": "BA4bMfOpYDKG",
        "outputId": "76aecc05-a740-4340-80c7-1aedd4dd7a3b"
      },
      "execution_count": null,
      "outputs": [
        {
          "output_type": "stream",
          "name": "stdout",
          "text": [
            "     a b\n",
            "[1,] 1 9\n",
            "[2,] 4 8\n",
            "[3,] 6 9\n",
            "[4,] 8 8\n",
            "  [,1]      [,2]   [,3]    [,4]   \n",
            "c \"blanco\"  \"gris\" \"rojo\"  \"negro\"\n",
            "d \"purpura\" \"cafe\" \"verde\" \"azul\" \n"
          ]
        }
      ]
    },
    {
      "cell_type": "markdown",
      "source": [
        "##***------------->MATRICES***\n",
        "\n",
        "Si recuerdan, los vectores eran agrupaciones de puntos o coodenadas en un plano cartesiano... en otras palabras... agrupaciones de números.\n",
        "\n",
        "![Captura de pantalla de 2023-02-14 14-30-02.png](data:image/png;base64,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)"
      ],
      "metadata": {
        "id": "hnBcav6yWWMF"
      }
    },
    {
      "cell_type": "markdown",
      "source": [
        "Pues bien... las matrices no son otra cosa que agrupaciones de vectores que conforman grupos de datos, pero debido a que el vector es bidimensional, las matrices pueden ocupar diferentes dimensiones... tantas como yo desee.\n",
        "\n",
        "Una matriz se verá así.\n",
        "![Captura de pantalla de 2023-02-14 14-33-14.png](data:image/png;base64,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)"
      ],
      "metadata": {
        "id": "m7HJG5suZheg"
      }
    },
    {
      "cell_type": "markdown",
      "source": [
        "Para crear matrices utilizaremos la función matrix() , la sintaxis es la siguiente.\n",
        "\n",
        "A continuación mostramos la descripción de los argumentos:\n",
        "data = es el vector que contiene los elementos que formaran parte de la matriz.\n",
        "\n",
        "Estos son los comandos básicos que se debe tener en cuenta al momento de crear una matriz de datos en R\n",
        "\n",
        "*   nrow = es el número de filas.\n",
        "*   ncol = es el número de columnas.\n",
        "*   byrow = es un valor lógico. Si es TRUE el vector que pasamos será ordenado por filas.\n",
        "*   dimnames = nombres asignado a filas y columnas."
      ],
      "metadata": {
        "id": "_57cWaC4bjsv"
      }
    },
    {
      "cell_type": "code",
      "source": [
        "%%R\n",
        "#Seguidamente se muestra un ejemplo de creación de una matriz:\n",
        "matriz <- matrix(1:12, nrow = 4)\n",
        "matriz"
      ],
      "metadata": {
        "colab": {
          "base_uri": "https://localhost:8080/"
        },
        "id": "l4LAgK0gcOOR",
        "outputId": "69326676-2317-4cb5-b3f3-c3306174101c"
      },
      "execution_count": null,
      "outputs": [
        {
          "output_type": "stream",
          "name": "stdout",
          "text": [
            "     [,1] [,2] [,3]\n",
            "[1,]    1    5    9\n",
            "[2,]    2    6   10\n",
            "[3,]    3    7   11\n",
            "[4,]    4    8   12\n"
          ]
        }
      ]
    },
    {
      "cell_type": "code",
      "source": [
        "%%R\n",
        "mat=matrix(1:20,ncol = 4)\n",
        "mat"
      ],
      "metadata": {
        "colab": {
          "base_uri": "https://localhost:8080/"
        },
        "id": "b7kUI1WLa-cr",
        "outputId": "3bc24869-ba85-4699-b5be-ceb8b2a85e8a"
      },
      "execution_count": null,
      "outputs": [
        {
          "output_type": "stream",
          "name": "stdout",
          "text": [
            "     [,1] [,2] [,3] [,4]\n",
            "[1,]    1    6   11   16\n",
            "[2,]    2    7   12   17\n",
            "[3,]    3    8   13   18\n",
            "[4,]    4    9   14   19\n",
            "[5,]    5   10   15   20\n"
          ]
        }
      ]
    },
    {
      "cell_type": "code",
      "source": [
        "%%R\n",
        "paises=matrix(1:12,\n",
        "              nrow = 3,\n",
        "              byrow=TRUE,\n",
        "              dimnames = list(c(\"Francia\",\"Belgica\",\"España\")))\n",
        "paises"
      ],
      "metadata": {
        "colab": {
          "base_uri": "https://localhost:8080/"
        },
        "id": "wR-oXn9HbGKQ",
        "outputId": "7413ce82-1dc1-49dd-9b02-99808e923531"
      },
      "execution_count": null,
      "outputs": [
        {
          "output_type": "stream",
          "name": "stdout",
          "text": [
            "        [,1] [,2] [,3] [,4]\n",
            "Francia    1    2    3    4\n",
            "Belgica    5    6    7    8\n",
            "España     9   10   11   12\n"
          ]
        }
      ]
    },
    {
      "cell_type": "markdown",
      "source": [
        "cbind(), rbind() agregar filas y columnas organizandolas de forma manual."
      ],
      "metadata": {
        "id": "e4JPMzVAc5sU"
      }
    },
    {
      "cell_type": "code",
      "source": [
        "%%R\n",
        "v1 <- c(1, 2, 3)\n",
        "v2 <- c(4, 5, 6)\n",
        "m1 <- cbind(v1, v2)\n",
        "m1"
      ],
      "metadata": {
        "colab": {
          "base_uri": "https://localhost:8080/"
        },
        "id": "YBlqwUImco-Q",
        "outputId": "e516e11b-55a4-4d16-a2ea-eb53fd56bfbb"
      },
      "execution_count": null,
      "outputs": [
        {
          "output_type": "stream",
          "name": "stdout",
          "text": [
            "     v1 v2\n",
            "[1,]  1  4\n",
            "[2,]  2  5\n",
            "[3,]  3  6\n"
          ]
        }
      ]
    },
    {
      "cell_type": "code",
      "source": [
        "%%R\n",
        "nombres <- c(\"Pedro\",\"Maria\",\"Juan\")\n",
        "apellidos <- c(\"Gonzales\", \"Gomez\", \"vuelolindo\")\n",
        "nombres_y_apellidos <- rbind(nombres,apellidos)\n",
        "nombres_y_apellidos2 <- cbind(nombres,apellidos)\n",
        "print(nombres_y_apellidos)\n",
        "print(nombres_y_apellidos2)"
      ],
      "metadata": {
        "colab": {
          "base_uri": "https://localhost:8080/"
        },
        "id": "fklH4l_Ec_lY",
        "outputId": "8d919c9e-f9d0-4e66-de39-5589d4e54210"
      },
      "execution_count": null,
      "outputs": [
        {
          "output_type": "stream",
          "name": "stdout",
          "text": [
            "          [,1]       [,2]    [,3]        \n",
            "nombres   \"Pedro\"    \"Maria\" \"Juan\"      \n",
            "apellidos \"Gonzales\" \"Gomez\" \"vuelolindo\"\n",
            "     nombres apellidos   \n",
            "[1,] \"Pedro\" \"Gonzales\"  \n",
            "[2,] \"Maria\" \"Gomez\"     \n",
            "[3,] \"Juan\"  \"vuelolindo\"\n"
          ]
        }
      ]
    },
    {
      "cell_type": "code",
      "source": [
        "%%R\n",
        "v1 <- c(1, 2, 3)\n",
        "v2 <- c(4, 5, 6)\n",
        "m1 <- rbind(v1, v2)\n",
        "m1"
      ],
      "metadata": {
        "colab": {
          "base_uri": "https://localhost:8080/"
        },
        "id": "WHqh5_DkdQ7b",
        "outputId": "6b00f96c-5af5-4835-cf5f-a08d8ff4bb66"
      },
      "execution_count": null,
      "outputs": [
        {
          "output_type": "stream",
          "name": "stdout",
          "text": [
            "   [,1] [,2] [,3]\n",
            "v1    1    2    3\n",
            "v2    4    5    6\n"
          ]
        }
      ]
    },
    {
      "cell_type": "markdown",
      "source": [
        "##***----------------------------------->LISTAS***\n",
        "\n",
        "Son secuencias de elementos que pueden pertenecer a cualquier tipo de dato."
      ],
      "metadata": {
        "id": "vuGx3q2nZ2Kl"
      }
    },
    {
      "cell_type": "code",
      "source": [
        "[1,2,3]"
      ],
      "metadata": {
        "colab": {
          "base_uri": "https://localhost:8080/"
        },
        "id": "vDXuNdQLZzbf",
        "outputId": "66e479f8-23fc-4064-cb5a-63465dccc581"
      },
      "execution_count": null,
      "outputs": [
        {
          "output_type": "execute_result",
          "data": {
            "text/plain": [
              "[1, 2, 3]"
            ]
          },
          "metadata": {},
          "execution_count": 173
        }
      ]
    },
    {
      "cell_type": "code",
      "source": [
        "['a','b','c']\n"
      ],
      "metadata": {
        "colab": {
          "base_uri": "https://localhost:8080/"
        },
        "id": "D47dMDV0Z8Jv",
        "outputId": "947369d3-c27d-4924-c7bf-459289b96934"
      },
      "execution_count": null,
      "outputs": [
        {
          "output_type": "execute_result",
          "data": {
            "text/plain": [
              "['a', 'b', 'c']"
            ]
          },
          "metadata": {},
          "execution_count": 174
        }
      ]
    },
    {
      "cell_type": "code",
      "source": [
        "lista=['a1',6,[2,32]]\n",
        "lista\n"
      ],
      "metadata": {
        "colab": {
          "base_uri": "https://localhost:8080/"
        },
        "id": "94OQ3M1TaCdn",
        "outputId": "e050b7b1-0740-45fa-a681-446c48b216b3"
      },
      "execution_count": null,
      "outputs": [
        {
          "output_type": "execute_result",
          "data": {
            "text/plain": [
              "['a1', 6, [2, 32]]"
            ]
          },
          "metadata": {},
          "execution_count": 175
        }
      ]
    },
    {
      "cell_type": "markdown",
      "source": [
        "Mientras en python basta con asignar los corchetes para que la lista quede creada, en R deberé llamar a la función\n",
        "\n",
        "```\n",
        "list()\n",
        "```\n",
        "\n"
      ],
      "metadata": {
        "id": "BC3JS18Pdow6"
      }
    },
    {
      "cell_type": "code",
      "source": [
        "%%R\n",
        "lista <- list(1:3, \"Ruben\", pi, list(c(-1, -2), -5))\n",
        "lista"
      ],
      "metadata": {
        "colab": {
          "base_uri": "https://localhost:8080/"
        },
        "id": "0-EROXJQd4jh",
        "outputId": "f4342352-a51e-4c00-ed77-e332c068b23a"
      },
      "execution_count": null,
      "outputs": [
        {
          "output_type": "stream",
          "name": "stdout",
          "text": [
            "[[1]]\n",
            "[1] 1 2 3\n",
            "\n",
            "[[2]]\n",
            "[1] \"Ruben\"\n",
            "\n",
            "[[3]]\n",
            "[1] 3.141593\n",
            "\n",
            "[[4]]\n",
            "[[4]][[1]]\n",
            "[1] -1 -2\n",
            "\n",
            "[[4]][[2]]\n",
            "[1] -5\n",
            "\n",
            "\n"
          ]
        }
      ]
    },
    {
      "cell_type": "markdown",
      "source": [
        "Perfecto ahora vamos a agregar un nuevo texto con el llamado .append()\n",
        "\n",
        "La orden . me permite llamar diferentes métodos como por ejemplo .sum() --> sumar o también .count() -->contar o .append() ---> agregar y así por el estilo diferentes ordenes que podré llamar usando la función \".\"\n",
        "\n",
        "Es importante recordar que seguido de la función que deseo llamar he de rellenar aquello que deseo agregar o sumar o contar o lo que sea que que vaya a hacer con dicha función."
      ],
      "metadata": {
        "id": "LbVzsG9VaE6p"
      }
    },
    {
      "cell_type": "code",
      "source": [
        "lista.append('Nuevo texto a añadir')\n",
        "lista"
      ],
      "metadata": {
        "colab": {
          "base_uri": "https://localhost:8080/"
        },
        "id": "VWUduokdaGkf",
        "outputId": "6fae5a6c-afb0-4a50-a0de-fb23b1e21f34"
      },
      "execution_count": null,
      "outputs": [
        {
          "output_type": "execute_result",
          "data": {
            "text/plain": [
              "['a1', 6, [2, 32], 'Nuevo texto a añadir']"
            ]
          },
          "metadata": {},
          "execution_count": 176
        }
      ]
    },
    {
      "cell_type": "markdown",
      "source": [
        "un ejemplo más de estas funciones \".\" sería .remove()"
      ],
      "metadata": {
        "id": "yL0wRjw2aIm5"
      }
    },
    {
      "cell_type": "code",
      "source": [
        "lista.remove('Nuevo texto a añadir')\n",
        "lista"
      ],
      "metadata": {
        "colab": {
          "base_uri": "https://localhost:8080/"
        },
        "id": "jtox3R50aJ18",
        "outputId": "80dc9765-767f-4d1a-f042-a73256528800"
      },
      "execution_count": null,
      "outputs": [
        {
          "output_type": "execute_result",
          "data": {
            "text/plain": [
              "['a1', 6, [2, 32]]"
            ]
          },
          "metadata": {},
          "execution_count": 177
        }
      ]
    },
    {
      "cell_type": "markdown",
      "source": [
        "pero si lo que quisiera eliminar sería un índice de aquella lista, entonces sería útil eliminar usando un comando \"del\"\n",
        "\n",
        "así..."
      ],
      "metadata": {
        "id": "26lUJFCVaLyV"
      }
    },
    {
      "cell_type": "code",
      "source": [
        "lista.append('a continuación, este texto se irá')\n",
        "lista"
      ],
      "metadata": {
        "colab": {
          "base_uri": "https://localhost:8080/"
        },
        "id": "i2IIbJn7aOy6",
        "outputId": "f5a38f67-caf9-43c7-bd2b-3d1e7d9f4142"
      },
      "execution_count": null,
      "outputs": [
        {
          "output_type": "execute_result",
          "data": {
            "text/plain": [
              "['a1', 6, [2, 32], 'a continuación, este texto se irá']"
            ]
          },
          "metadata": {},
          "execution_count": 178
        }
      ]
    },
    {
      "cell_type": "markdown",
      "source": [
        "Muy bien, hemos agregado un elemento nuevo a la lista... ahora vamos a eliminarlo, pero para eso, vamos a contar la posición en la que el elemento se encuentra... 0, 1, 2, y --> 3 ya que es el último elemento de esta lista."
      ],
      "metadata": {
        "id": "Yvw43doGaRKy"
      }
    },
    {
      "cell_type": "code",
      "source": [
        "del lista[3]\n",
        "lista"
      ],
      "metadata": {
        "colab": {
          "base_uri": "https://localhost:8080/"
        },
        "id": "3COS5ihMaTKk",
        "outputId": "f43b9230-5c5f-46a7-eebb-2eb3129d086a"
      },
      "execution_count": null,
      "outputs": [
        {
          "output_type": "execute_result",
          "data": {
            "text/plain": [
              "['a1', 6, [2, 32]]"
            ]
          },
          "metadata": {},
          "execution_count": 179
        }
      ]
    },
    {
      "cell_type": "markdown",
      "source": [
        "Bien, el elementos se há ido."
      ],
      "metadata": {
        "id": "2fPZYXt0aVGO"
      }
    },
    {
      "cell_type": "code",
      "source": [
        "lista"
      ],
      "metadata": {
        "colab": {
          "base_uri": "https://localhost:8080/"
        },
        "id": "okZBod4SagjE",
        "outputId": "a058c1bd-27dc-4045-e946-3cce93d87547"
      },
      "execution_count": null,
      "outputs": [
        {
          "output_type": "execute_result",
          "data": {
            "text/plain": [
              "['a1', 6, [2, 32]]"
            ]
          },
          "metadata": {},
          "execution_count": 180
        }
      ]
    },
    {
      "cell_type": "markdown",
      "source": [
        "Vamos a cambiar el objeto 2 de la lista que es [2, 32] y lo remplazaremos con un 127"
      ],
      "metadata": {
        "id": "c7uW8jK4aZi1"
      }
    },
    {
      "cell_type": "code",
      "source": [
        "lista[2]=127\n",
        "lista"
      ],
      "metadata": {
        "colab": {
          "base_uri": "https://localhost:8080/"
        },
        "id": "AmjLhivxaXhL",
        "outputId": "fa3f3ea1-cc17-467d-f957-0c6ea79d96a2"
      },
      "execution_count": null,
      "outputs": [
        {
          "output_type": "execute_result",
          "data": {
            "text/plain": [
              "['a1', 6, 127]"
            ]
          },
          "metadata": {},
          "execution_count": 181
        }
      ]
    },
    {
      "cell_type": "markdown",
      "source": [
        "Perfecto, se ha ido.\n",
        "\n",
        "Las listas son como cajones, siendo que cada cajón tiene un determinado espacio, yo podría guardar diferentes objetos dentro de dicho cajón, incluso, otros cajones, así por ejemplo"
      ],
      "metadata": {
        "id": "W48M8FAGamJt"
      }
    },
    {
      "cell_type": "code",
      "source": [
        "granlista=[\"lista1\",\"lista2\",[\"lista2.1\",\"lista2.2\",[\"lista2.2.1\",[\"Infinito\"]]]]\n",
        "granlista"
      ],
      "metadata": {
        "colab": {
          "base_uri": "https://localhost:8080/"
        },
        "id": "m1I_uyCyan19",
        "outputId": "af7c7272-d665-45f4-87e2-46142b5a1cc6"
      },
      "execution_count": null,
      "outputs": [
        {
          "output_type": "execute_result",
          "data": {
            "text/plain": [
              "['lista1', 'lista2', ['lista2.1', 'lista2.2', ['lista2.2.1', ['Infinito']]]]"
            ]
          },
          "metadata": {},
          "execution_count": 182
        }
      ]
    },
    {
      "cell_type": "markdown",
      "source": [
        "Aunque esto es solamente un ejemplo, he creado un montón de listas, una dentro de otra... Ahora bien, en algunos casos no es muy conveniente tener tantas listas anidadas una dentro de otras, sin embargo la idea se realiza principalmente para fines de ilustración del tema."
      ],
      "metadata": {
        "id": "J14zsc8Uaqbi"
      }
    },
    {
      "cell_type": "code",
      "source": [
        "granlista[2][0]"
      ],
      "metadata": {
        "colab": {
          "base_uri": "https://localhost:8080/",
          "height": 36
        },
        "id": "GOsGAWsiaruE",
        "outputId": "b2977cbc-893a-4327-b189-88fa05818675"
      },
      "execution_count": null,
      "outputs": [
        {
          "output_type": "execute_result",
          "data": {
            "text/plain": [
              "'lista2.1'"
            ],
            "application/vnd.google.colaboratory.intrinsic+json": {
              "type": "string"
            }
          },
          "metadata": {},
          "execution_count": 183
        }
      ]
    },
    {
      "cell_type": "markdown",
      "source": [
        "Ahora, he llamado la lista 2 en la ubicación 0 que será la lista 2.1"
      ],
      "metadata": {
        "id": "f1H0KM0nauhJ"
      }
    },
    {
      "cell_type": "code",
      "source": [
        "granlista[2][2][0]"
      ],
      "metadata": {
        "colab": {
          "base_uri": "https://localhost:8080/",
          "height": 36
        },
        "id": "mm8fTgbUawDW",
        "outputId": "a6165e1c-6011-49ec-9cc6-31e16028a096"
      },
      "execution_count": null,
      "outputs": [
        {
          "output_type": "execute_result",
          "data": {
            "text/plain": [
              "'lista2.2.1'"
            ],
            "application/vnd.google.colaboratory.intrinsic+json": {
              "type": "string"
            }
          },
          "metadata": {},
          "execution_count": 184
        }
      ]
    },
    {
      "cell_type": "markdown",
      "source": [
        "Y ahora he llamado a la lista ubicada en la posición 2 y dentro de está nuevamente la posición 2 y dentro de esta la posición 0."
      ],
      "metadata": {
        "id": "6Az_SSwfeWoG"
      }
    },
    {
      "cell_type": "markdown",
      "source": [
        "###Ahora vamos con R\n",
        "vamos a crear una lista nueva:"
      ],
      "metadata": {
        "id": "GR7d_Vd2eQWH"
      }
    },
    {
      "cell_type": "code",
      "source": [
        "%%R\n",
        "data_list <- list(c(\"enero\",\"Febrero\",\"Marzo\"), #aquí creo las listas\n",
        "                  matrix(c(1,2,3,4,-1,9), nrow = 2),#asigno categirias a lo que hay dentro\n",
        "                  list(\"Rojo\",12.3))\n",
        "data_list"
      ],
      "metadata": {
        "colab": {
          "base_uri": "https://localhost:8080/"
        },
        "id": "VzyvMcNkeT42",
        "outputId": "827bd2a9-43e9-42b3-861c-b8995a6b7cdd"
      },
      "execution_count": null,
      "outputs": [
        {
          "output_type": "stream",
          "name": "stdout",
          "text": [
            "[[1]]\n",
            "[1] \"enero\"   \"Febrero\" \"Marzo\"  \n",
            "\n",
            "[[2]]\n",
            "     [,1] [,2] [,3]\n",
            "[1,]    1    3   -1\n",
            "[2,]    2    4    9\n",
            "\n",
            "[[3]]\n",
            "[[3]][[1]]\n",
            "[1] \"Rojo\"\n",
            "\n",
            "[[3]][[2]]\n",
            "[1] 12.3\n",
            "\n",
            "\n"
          ]
        }
      ]
    },
    {
      "cell_type": "markdown",
      "source": [
        "Pero quiero nombrar cada cajón dentro de la lista.\n",
        "\n",
        "Uaré el comando names para nombrar los objetos dentro de una lista\n",
        "\n",
        "\n",
        "```\n",
        "names=(nombre del objeto a nombrar)\n",
        "```\n",
        "En caso de que se trate de varios elementos que deseo nombrar, lo que haré será llamar a la función names, después el objeto que deseo nombrar, que ne etse caso será el nombre de mi lista y después asignaré un vector con los nombres de los objetos que deseo llenar en la lista.  \n",
        "\n",
        "```\n",
        "names(objeto)  <- c(elemento1, elemento2... elemento n)\n",
        "```"
      ],
      "metadata": {
        "id": "hLf_WxrCekTo"
      }
    },
    {
      "cell_type": "code",
      "source": [
        "%%R\n",
        "names(data_list) <- c(\"listaA\", \"listaB\", \"listaC\") #aquí nombro las listas\n",
        "data_list #aquí imprimo el contenido de las listas"
      ],
      "metadata": {
        "colab": {
          "base_uri": "https://localhost:8080/"
        },
        "id": "zZK-ClpfeuqE",
        "outputId": "859c847a-2eb7-4047-ad0c-2493da445a9c"
      },
      "execution_count": null,
      "outputs": [
        {
          "output_type": "stream",
          "name": "stdout",
          "text": [
            "$listaA\n",
            "[1] \"enero\"   \"Febrero\" \"Marzo\"  \n",
            "\n",
            "$listaB\n",
            "     [,1] [,2] [,3]\n",
            "[1,]    1    3   -1\n",
            "[2,]    2    4    9\n",
            "\n",
            "$listaC\n",
            "$listaC[[1]]\n",
            "[1] \"Rojo\"\n",
            "\n",
            "$listaC[[2]]\n",
            "[1] 12.3\n",
            "\n",
            "\n"
          ]
        }
      ]
    },
    {
      "cell_type": "markdown",
      "source": [
        "Extracción de elementos de una lista, vector o matriz.\n",
        "\n",
        "El comando $ es un comando de extracción que sirve en múltiples grupos de objetos de R; veamos un ejemplo."
      ],
      "metadata": {
        "id": "dqzWPMhrl60l"
      }
    },
    {
      "cell_type": "code",
      "source": [
        "%%R\n",
        "listab1 = data_list$listaB\n",
        "\n",
        "listab1"
      ],
      "metadata": {
        "colab": {
          "base_uri": "https://localhost:8080/"
        },
        "id": "CX0V9op3l6Ov",
        "outputId": "07309ce4-4957-4c7c-c1f1-fbcb8b700d9d"
      },
      "execution_count": null,
      "outputs": [
        {
          "output_type": "stream",
          "name": "stdout",
          "text": [
            "     [,1] [,2] [,3]\n",
            "[1,]    1    3   -1\n",
            "[2,]    2    4    9\n"
          ]
        }
      ]
    },
    {
      "cell_type": "markdown",
      "source": [
        "Ahora, al igual que en python puedo extraer elementos de una lista según su posición.\n",
        "\n"
      ],
      "metadata": {
        "id": "qwVMGUU6mmaj"
      }
    },
    {
      "cell_type": "code",
      "source": [
        "%%R\n",
        "data_list"
      ],
      "metadata": {
        "colab": {
          "base_uri": "https://localhost:8080/"
        },
        "id": "53LRNFp4oZ3z",
        "outputId": "0420be1c-cb2d-4d34-c6da-6aeb4aec45cc"
      },
      "execution_count": null,
      "outputs": [
        {
          "output_type": "stream",
          "name": "stdout",
          "text": [
            "$listaA\n",
            "[1] \"enero\"   \"Febrero\" \"Marzo\"  \n",
            "\n",
            "$listaB\n",
            "     [,1] [,2] [,3]\n",
            "[1,]    1    3   -1\n",
            "[2,]    2    4    9\n",
            "\n",
            "$listaC\n",
            "$listaC[[1]]\n",
            "[1] \"Rojo\"\n",
            "\n",
            "$listaC[[2]]\n",
            "[1] 12.3\n",
            "\n",
            "\n"
          ]
        }
      ]
    },
    {
      "cell_type": "code",
      "source": [
        "%%R\n",
        "data_list[[2]][,1:2]"
      ],
      "metadata": {
        "colab": {
          "base_uri": "https://localhost:8080/"
        },
        "id": "EagG_ZeTmuuL",
        "outputId": "9fcd2019-93f8-43f2-e669-ffce8ab58c27"
      },
      "execution_count": null,
      "outputs": [
        {
          "output_type": "stream",
          "name": "stdout",
          "text": [
            "     [,1] [,2]\n",
            "[1,]    1    3\n",
            "[2,]    2    4\n"
          ]
        }
      ]
    },
    {
      "cell_type": "code",
      "source": [
        "%%R\n",
        "data_list$listaB[,1:2]"
      ],
      "metadata": {
        "colab": {
          "base_uri": "https://localhost:8080/"
        },
        "id": "2opQR2yooZVW",
        "outputId": "40ff6bdd-e593-403e-c55f-e60bc7735f3c"
      },
      "execution_count": null,
      "outputs": [
        {
          "output_type": "stream",
          "name": "stdout",
          "text": [
            "     [,1] [,2]\n",
            "[1,]    1    3\n",
            "[2,]    2    4\n"
          ]
        }
      ]
    },
    {
      "cell_type": "markdown",
      "source": [
        "\n",
        "\n",
        "##***-------------------------------->DICCIONARIOS***\n",
        "\n",
        "Los diccionarios están compuestos por pares ***clave0***: ***valor0***\n",
        "\n",
        "```\n",
        "\n",
        "nombre elegido = {clave0: valor0, clave1: valor1}\n",
        "\n",
        "```\n",
        "\n",
        "Entonces lo que veremos será:\n"
      ],
      "metadata": {
        "id": "FYD96LGpax7x"
      }
    },
    {
      "cell_type": "code",
      "source": [
        "diccionario={'key0':'item0','key1':'item1'}\n",
        "diccionario"
      ],
      "metadata": {
        "colab": {
          "base_uri": "https://localhost:8080/"
        },
        "id": "UpHhnbNja7J9",
        "outputId": "2f036138-1ede-4938-d967-ca0fca94898a"
      },
      "execution_count": null,
      "outputs": [
        {
          "output_type": "execute_result",
          "data": {
            "text/plain": [
              "{'key0': 'item0', 'key1': 'item1'}"
            ]
          },
          "metadata": {},
          "execution_count": 185
        }
      ]
    },
    {
      "cell_type": "markdown",
      "source": [
        "Aquí están impresos los valores de este diccionario, ahora bien, para acceder a los elementos de un diccionario, yo no accedo mediante los índices como lo hacía previamente en las lisas, no, aquí deberé acceder mediante las llaves o claves.\n"
      ],
      "metadata": {
        "id": "gLrKh8Sta9gg"
      }
    },
    {
      "cell_type": "code",
      "source": [
        "diccionario['key1']"
      ],
      "metadata": {
        "colab": {
          "base_uri": "https://localhost:8080/",
          "height": 36
        },
        "id": "5WOqLtIoa-nJ",
        "outputId": "f96f6981-0ced-4aef-c8b2-b09e8b07d36e"
      },
      "execution_count": null,
      "outputs": [
        {
          "output_type": "execute_result",
          "data": {
            "text/plain": [
              "'item1'"
            ],
            "application/vnd.google.colaboratory.intrinsic+json": {
              "type": "string"
            }
          },
          "metadata": {},
          "execution_count": 186
        }
      ]
    },
    {
      "cell_type": "markdown",
      "source": [
        "Como vemos, al llamar la llave1 me ha regresado el ítem1, sin importar su posición, espacio o tamaño.\n",
        "\n",
        "Vamos por un código algo más complejo."
      ],
      "metadata": {
        "id": "TclCYO2AbAkD"
      }
    },
    {
      "cell_type": "code",
      "source": [
        "diccionario={'key0':'150','key1':'arturo calle',\n",
        "   'key2':'familia manrique','key3':45453442424224,\n",
        "   'key4':[1,2,3,4],'key5':432}\n",
        "diccionario['key2']"
      ],
      "metadata": {
        "colab": {
          "base_uri": "https://localhost:8080/",
          "height": 36
        },
        "id": "hjbKk_i2bB8K",
        "outputId": "c7a1f797-1488-4965-d31d-98e121eba44f"
      },
      "execution_count": null,
      "outputs": [
        {
          "output_type": "execute_result",
          "data": {
            "text/plain": [
              "'familia manrique'"
            ],
            "application/vnd.google.colaboratory.intrinsic+json": {
              "type": "string"
            }
          },
          "metadata": {},
          "execution_count": 187
        }
      ]
    },
    {
      "cell_type": "markdown",
      "source": [
        "También podría anidar diccionarios, uno dentro de otro."
      ],
      "metadata": {
        "id": "G_Z81QeObESn"
      }
    },
    {
      "cell_type": "code",
      "source": [
        "diccionario={'key0':\n",
        "   {'key1':'arturo calle','key2':'familia manrique','key3':45453442424224,\n",
        "   'key4':[1,2,3,4],'key5':432\n",
        "   }\n",
        "}\n",
        "diccionario['key0']"
      ],
      "metadata": {
        "colab": {
          "base_uri": "https://localhost:8080/"
        },
        "id": "FfjtThXCbFkP",
        "outputId": "cb0ae2aa-d5b9-4375-ba10-8cfc0df528e7"
      },
      "execution_count": null,
      "outputs": [
        {
          "output_type": "execute_result",
          "data": {
            "text/plain": [
              "{'key1': 'arturo calle',\n",
              " 'key2': 'familia manrique',\n",
              " 'key3': 45453442424224,\n",
              " 'key4': [1, 2, 3, 4],\n",
              " 'key5': 432}"
            ]
          },
          "metadata": {},
          "execution_count": 188
        }
      ]
    },
    {
      "cell_type": "markdown",
      "source": [
        "Y al llamar el elemento 0 del diccionario me dará como resultado el conjunto de datos que serán diccionarios dentro de éste.\n",
        "\n",
        "Ahora quiero hacer un llamado más preciso del mismo diccionario."
      ],
      "metadata": {
        "id": "tBFbgB7ibH7o"
      }
    },
    {
      "cell_type": "code",
      "source": [
        "diccionario={'key0':\n",
        "   {'key1':'arturo calle','key2':'familia manrique','key3':45453442424224,\n",
        "   'key4':[1,2,3,4],'key5':432\n",
        "   }\n",
        "}\n",
        "diccionario['key0']['key4'][0:3]"
      ],
      "metadata": {
        "colab": {
          "base_uri": "https://localhost:8080/"
        },
        "id": "vjUhyg0GbJbX",
        "outputId": "35a06b2d-66b8-420e-a0b7-ae71b2db5c80"
      },
      "execution_count": null,
      "outputs": [
        {
          "output_type": "execute_result",
          "data": {
            "text/plain": [
              "[1, 2, 3]"
            ]
          },
          "metadata": {},
          "execution_count": 189
        }
      ]
    },
    {
      "cell_type": "markdown",
      "source": [
        "\n",
        "##***------------------------>TUPLAS***\n",
        "\n",
        "Estos son arreglos inmutables de elemtnos, es decir, una vez que se guardan, no se pueden cambiar más.\n"
      ],
      "metadata": {
        "id": "N2YMhCuJbLjc"
      }
    },
    {
      "cell_type": "code",
      "source": [
        "a= [1,2,3,5,40,23]\n",
        "a[2]='Nuevo eleento'\n",
        "a"
      ],
      "metadata": {
        "colab": {
          "base_uri": "https://localhost:8080/"
        },
        "id": "Yc1w4lE0bNo9",
        "outputId": "ca1d26ab-fdf7-4bf8-ce8e-1524a42b2459"
      },
      "execution_count": null,
      "outputs": [
        {
          "output_type": "execute_result",
          "data": {
            "text/plain": [
              "[1, 2, 'Nuevo eleento', 5, 40, 23]"
            ]
          },
          "metadata": {},
          "execution_count": 190
        }
      ]
    },
    {
      "cell_type": "code",
      "source": [
        "tupla= (1,2,3,5,40,23)\n",
        "tupla[2]='Nuevo eleento'\n",
        "tupla"
      ],
      "metadata": {
        "colab": {
          "base_uri": "https://localhost:8080/",
          "height": 201
        },
        "id": "SNGq2iylbT0D",
        "outputId": "189af887-b05e-4544-a268-9bb1c56ac0e0"
      },
      "execution_count": null,
      "outputs": [
        {
          "output_type": "error",
          "ename": "TypeError",
          "evalue": "ignored",
          "traceback": [
            "\u001b[0;31m---------------------------------------------------------------------------\u001b[0m",
            "\u001b[0;31mTypeError\u001b[0m                                 Traceback (most recent call last)",
            "\u001b[0;32m<ipython-input-285-6026220ae06b>\u001b[0m in \u001b[0;36m<module>\u001b[0;34m\u001b[0m\n\u001b[1;32m      1\u001b[0m \u001b[0mtupla\u001b[0m\u001b[0;34m=\u001b[0m \u001b[0;34m(\u001b[0m\u001b[0;36m1\u001b[0m\u001b[0;34m,\u001b[0m\u001b[0;36m2\u001b[0m\u001b[0;34m,\u001b[0m\u001b[0;36m3\u001b[0m\u001b[0;34m,\u001b[0m\u001b[0;36m5\u001b[0m\u001b[0;34m,\u001b[0m\u001b[0;36m40\u001b[0m\u001b[0;34m,\u001b[0m\u001b[0;36m23\u001b[0m\u001b[0;34m)\u001b[0m\u001b[0;34m\u001b[0m\u001b[0;34m\u001b[0m\u001b[0m\n\u001b[0;32m----> 2\u001b[0;31m \u001b[0mtupla\u001b[0m\u001b[0;34m[\u001b[0m\u001b[0;36m2\u001b[0m\u001b[0;34m]\u001b[0m\u001b[0;34m=\u001b[0m\u001b[0;34m'Nuevo eleento'\u001b[0m\u001b[0;34m\u001b[0m\u001b[0;34m\u001b[0m\u001b[0m\n\u001b[0m\u001b[1;32m      3\u001b[0m \u001b[0mtupla\u001b[0m\u001b[0;34m\u001b[0m\u001b[0;34m\u001b[0m\u001b[0m\n",
            "\u001b[0;31mTypeError\u001b[0m: 'tuple' object does not support item assignment"
          ]
        }
      ]
    },
    {
      "cell_type": "markdown",
      "source": [
        "Como veremos, al intentar agregar un nuevo valor a una tupla obtendré un error en el que python me dirá que no es posible modificar dicho valor y que no podré hacer esta operación, tal cual como se muestra en el ejemplo de arriba.\n",
        "\n",
        "**Las tuplas se acceden de forma idéntica a las de las listas\n",
        "\n",
        "\n",
        "***------------> Conjuntos (Sets de datos)***\n",
        "\n",
        "Se trat de una estructura de datos que permite almacenar colecciones de elementos únicos... se parecen a los diccionarios porque se definen bajo llaves, sinembargo en este caso no poseen ninguna clave:valor, sino que serán simplemente aglomeraciones de datos."
      ],
      "metadata": {
        "id": "nx0c6pIWbR6J"
      }
    },
    {
      "cell_type": "code",
      "source": [
        "s={2,2,2,2,2,2,2,2,2,3,3,3,3,3,3,3,3,3,4,4,4,4,4,4,4,4,4,4,4,4,4,4,4,4}\n",
        "s"
      ],
      "metadata": {
        "colab": {
          "base_uri": "https://localhost:8080/"
        },
        "id": "LSgLs5Fgbmeh",
        "outputId": "f437f5b1-822c-461a-9e37-7510f37ef798"
      },
      "execution_count": null,
      "outputs": [
        {
          "output_type": "execute_result",
          "data": {
            "text/plain": [
              "{2, 3, 4}"
            ]
          },
          "metadata": {},
          "execution_count": 192
        }
      ]
    },
    {
      "cell_type": "markdown",
      "source": [
        "En este caso se puede ver en la impresión de pantalla que, aunque el conjunto de datos posee muchas repeticiones python imprime en pantalla únicamente el conjunto de elementos que está repetido, siendo 2,3 y 4 los elementos únicos del conjunto de datos.\n",
        "\n",
        "# ***----------> Operadores Relacionales***\n",
        "Son utilizados principalmente para compara una expresión y generalmente me van a retornar un TRUE o un FALSE dependiendo de la veracidad o falsedad de la afirmación que yo plantee en el algoritmo qu proponga al código.\n",
        "\n",
        "Este tipo de planteamientos aplican tanto para python como para R de la misma forma. así yo podréplantear.\n",
        "\n",
        "1 es mayror que 100\n",
        "\n",
        "Algunos operadores de comparación muy útiles en R son:\n",
        "![Screenshot from 2023-02-14 13-19-05.png](data:image/png;base64,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)"
      ],
      "metadata": {
        "id": "t9DMhgdJbpY-"
      }
    },
    {
      "cell_type": "code",
      "source": [
        "1>100"
      ],
      "metadata": {
        "colab": {
          "base_uri": "https://localhost:8080/"
        },
        "id": "bD1Fdej2brKQ",
        "outputId": "3ff088d2-4b67-4bce-cc5d-cff4d2acca9f"
      },
      "execution_count": null,
      "outputs": [
        {
          "output_type": "execute_result",
          "data": {
            "text/plain": [
              "False"
            ]
          },
          "metadata": {},
          "execution_count": 194
        }
      ]
    },
    {
      "cell_type": "markdown",
      "source": [
        "Basado en este principio se tendrá un conjunto de operadores que es ***MUY*** importante estudiar y recordar puesto que serán la puerta para lograr programar algoritmos más complejos."
      ],
      "metadata": {
        "id": "XmYJZdxFbtiv"
      }
    },
    {
      "cell_type": "markdown",
      "source": [
        "***Igualdad***\n",
        "```\n",
        "==\n",
        "```\n",
        "En python y R los dos signos de =, representan la igualdad"
      ],
      "metadata": {
        "id": "lryE5KdWbvT8"
      }
    },
    {
      "cell_type": "code",
      "source": [
        "1==1"
      ],
      "metadata": {
        "colab": {
          "base_uri": "https://localhost:8080/"
        },
        "id": "JdoETcDfb6oT",
        "outputId": "b20faf2e-cdb8-47fd-8d4f-77c86ff202b8"
      },
      "execution_count": null,
      "outputs": [
        {
          "output_type": "execute_result",
          "data": {
            "text/plain": [
              "True"
            ]
          },
          "metadata": {},
          "execution_count": 193
        }
      ]
    },
    {
      "cell_type": "markdown",
      "source": [
        "***Diferencia***\n",
        "```\n",
        "!=\n",
        "```\n",
        "\n",
        "En python y R el signo de !=, representan la diferencia"
      ],
      "metadata": {
        "id": "wJj7Lyypb9wd"
      }
    },
    {
      "cell_type": "code",
      "source": [
        "1!=1"
      ],
      "metadata": {
        "colab": {
          "base_uri": "https://localhost:8080/"
        },
        "id": "jbcG47skb9Mx",
        "outputId": "4f863d84-cc86-4180-d171-6f8bf5f1511f"
      },
      "execution_count": null,
      "outputs": [
        {
          "output_type": "execute_result",
          "data": {
            "text/plain": [
              "False"
            ]
          },
          "metadata": {},
          "execution_count": 195
        }
      ]
    },
    {
      "cell_type": "markdown",
      "source": [
        "***Mayor o igual >= o menor o igual <=***\n",
        "\n",
        "\n",
        "```\n",
        "Mayor o igual >=\n",
        "Menor o igual <=\n",
        "```\n",
        "\n"
      ],
      "metadata": {
        "id": "2WCpi12xcE6b"
      }
    },
    {
      "cell_type": "code",
      "source": [
        "1>=1"
      ],
      "metadata": {
        "colab": {
          "base_uri": "https://localhost:8080/"
        },
        "id": "CyDJruO1cFqd",
        "outputId": "867bdd3b-9114-40e9-f37e-30bd789b607e"
      },
      "execution_count": null,
      "outputs": [
        {
          "output_type": "execute_result",
          "data": {
            "text/plain": [
              "True"
            ]
          },
          "metadata": {},
          "execution_count": 196
        }
      ]
    },
    {
      "cell_type": "code",
      "source": [
        "1>=10"
      ],
      "metadata": {
        "colab": {
          "base_uri": "https://localhost:8080/"
        },
        "id": "l6-3fJsvcNL3",
        "outputId": "9ac82be7-b04d-4aa9-be48-7a9448a06e14"
      },
      "execution_count": null,
      "outputs": [
        {
          "output_type": "execute_result",
          "data": {
            "text/plain": [
              "False"
            ]
          },
          "metadata": {},
          "execution_count": 197
        }
      ]
    },
    {
      "cell_type": "markdown",
      "source": [
        "***Mayor o Menor***\n",
        "\n",
        "```\n",
        "Mayor >\n",
        "Menor <\n",
        "```\n",
        "\n",
        "Aplican igual que los signos de >= <=\n",
        "\n",
        "**Es importante resaltar que el signo \"=\" solo, es un simbolo reservado para asignación y tanto python como R lo entenderán como asignar un valor a una variable**\n",
        "\n"
      ],
      "metadata": {
        "id": "ZiQpqUNtcQGv"
      }
    },
    {
      "cell_type": "markdown",
      "source": [
        "# ***--------> Operadores Lógicos***\n",
        "Se usan para constuír estructuras de comparación lógicas en las que podré crear conjuntos de relación TRUE o FALSE"
      ],
      "metadata": {
        "id": "KTFLf_XFcV_a"
      }
    },
    {
      "cell_type": "code",
      "source": [
        "#en python\n",
        "(2>3) and (3>4)"
      ],
      "metadata": {
        "colab": {
          "base_uri": "https://localhost:8080/"
        },
        "id": "28CUO9a2cX57",
        "outputId": "18c2aa63-750c-4df5-e717-ae6c99da8c0b"
      },
      "execution_count": null,
      "outputs": [
        {
          "output_type": "execute_result",
          "data": {
            "text/plain": [
              "False"
            ]
          },
          "metadata": {},
          "execution_count": 198
        }
      ]
    },
    {
      "cell_type": "code",
      "source": [
        "%%R\n",
        "a <- 2\n",
        "b <- 4\n",
        "(a < 3) & (b < 5) # ¿es a menor que 3 y b menor que 3?"
      ],
      "metadata": {
        "colab": {
          "base_uri": "https://localhost:8080/"
        },
        "id": "uprhQP1KIadQ",
        "outputId": "0d0b80e1-fc6f-4f1c-9fdd-2877b535f77b"
      },
      "execution_count": null,
      "outputs": [
        {
          "output_type": "stream",
          "name": "stdout",
          "text": [
            "[1] TRUE\n"
          ]
        }
      ]
    },
    {
      "cell_type": "code",
      "source": [
        "%%R\n",
        "#En R\n",
        "(a < 1) | (b < 3)\n",
        " # ¿es a menor que 1 o b menor que 3?"
      ],
      "metadata": {
        "colab": {
          "base_uri": "https://localhost:8080/"
        },
        "id": "sLYTmkARKSWi",
        "outputId": "e4d7077a-205b-410d-ff42-e321f764e981"
      },
      "execution_count": null,
      "outputs": [
        {
          "output_type": "stream",
          "name": "stdout",
          "text": [
            "[1] FALSE\n"
          ]
        }
      ]
    },
    {
      "cell_type": "code",
      "source": [
        "#python\n",
        "(2>3) or (3<4)"
      ],
      "metadata": {
        "colab": {
          "base_uri": "https://localhost:8080/"
        },
        "id": "mnNXczDRcaNY",
        "outputId": "12614e95-f62a-40e2-ba58-a43a08d55558"
      },
      "execution_count": null,
      "outputs": [
        {
          "output_type": "execute_result",
          "data": {
            "text/plain": [
              "True"
            ]
          },
          "metadata": {},
          "execution_count": 201
        }
      ]
    },
    {
      "cell_type": "code",
      "source": [
        "(2>=3) or (3==3) and (1!=2)"
      ],
      "metadata": {
        "colab": {
          "base_uri": "https://localhost:8080/"
        },
        "id": "nP5ARGlRccPU",
        "outputId": "2dd1f774-b8eb-4d9f-be8f-3589b38f71df"
      },
      "execution_count": null,
      "outputs": [
        {
          "output_type": "execute_result",
          "data": {
            "text/plain": [
              "True"
            ]
          },
          "metadata": {},
          "execution_count": 202
        }
      ]
    },
    {
      "cell_type": "markdown",
      "source": [
        "***-----> Elementos de control de flujo***\n",
        "\n",
        "Son condicionales, estructuras o bloques de código que permiten encadenar intrucciones basadas en condiciones lógicas.\n",
        "\n",
        "\n",
        "\n",
        "\n",
        "```\n",
        "if, elif, else\n",
        "```\n",
        "\n"
      ],
      "metadata": {
        "id": "OX6hRgLCcmpL"
      }
    },
    {
      "cell_type": "code",
      "source": [
        "if 2!=3:\n",
        "   print('estos números son diferentes')"
      ],
      "metadata": {
        "id": "7n3q8C5qcddW",
        "colab": {
          "base_uri": "https://localhost:8080/"
        },
        "outputId": "6a5177f0-0484-4704-cf1b-44618e97d163"
      },
      "execution_count": null,
      "outputs": [
        {
          "output_type": "stream",
          "name": "stdout",
          "text": [
            "estos números son diferentes\n"
          ]
        }
      ]
    },
    {
      "cell_type": "markdown",
      "source": [
        "Muy bien, vamos más a profundidad en el código."
      ],
      "metadata": {
        "id": "wavzVwKHc9bM"
      }
    },
    {
      "cell_type": "code",
      "source": [
        "if 2>3:\n",
        "   print('dos es menor que tres')\n",
        "else:\n",
        "   print('dos es mayor que tres')"
      ],
      "metadata": {
        "id": "-EMFraaSctpM",
        "colab": {
          "base_uri": "https://localhost:8080/"
        },
        "outputId": "06a7cc67-8dfb-49c1-e83f-b72da36a1d06"
      },
      "execution_count": null,
      "outputs": [
        {
          "output_type": "stream",
          "name": "stdout",
          "text": [
            "dos es mayor que tres\n"
          ]
        }
      ]
    },
    {
      "cell_type": "markdown",
      "source": [
        "Cuando als condiciones se limitan a estos bloques de código de dos condiciones podré usar if y else, sin embargo, en los programas usualmente quiero usar múltiples sentencias condidionales; entonces llega elif a rescatar la fiesta."
      ],
      "metadata": {
        "id": "p2iJJHsmdBNM"
      }
    },
    {
      "cell_type": "code",
      "source": [
        "if 2>3:\n",
        "   print('dos es menor que tres')\n",
        "elif 2==3:\n",
        "   print('estos números son diferentes')\n",
        "else:\n",
        "   print('dos es mayor que tres')"
      ],
      "metadata": {
        "id": "jRCEyurVdCdR",
        "colab": {
          "base_uri": "https://localhost:8080/"
        },
        "outputId": "ede28796-0b01-4d3d-8e78-4cb21f707116"
      },
      "execution_count": null,
      "outputs": [
        {
          "output_type": "stream",
          "name": "stdout",
          "text": [
            "dos es mayor que tres\n"
          ]
        }
      ]
    },
    {
      "cell_type": "markdown",
      "source": [
        "Entonces mi programa arranca en la parte superiór y va revisando las sentencias condicionales hasta llegar a una en la que se encuentra con una verdad. Al llegara a este punto, valida el resultado y cumple con la orden que le he dado.\n",
        "\n",
        "***-------> Ciclo \"for\"***\n",
        "\n",
        "Se usa principalmente cuando se quiere ejecutar varias veces una serie de instrucciones.\n",
        "\n",
        "En este caso lo que haré será definir una lista."
      ],
      "metadata": {
        "id": "F1aOwfMxdEpj"
      }
    },
    {
      "cell_type": "code",
      "source": [
        "a=[1,2,3,4,5,6,5,5,4,3,4,4,3,4,3,4,2,2,2,3,5,4,3,2,2]\n",
        "\n",
        "#Ahora, una vez definida la lista procederé a formar mi instrucción \"for\"\n",
        "\n",
        "for item in a:\n",
        "   print(item)"
      ],
      "metadata": {
        "id": "pFMR-HBgdFWf",
        "colab": {
          "base_uri": "https://localhost:8080/"
        },
        "outputId": "c4f953ab-76a4-4b49-bd0e-e511c1d38e11"
      },
      "execution_count": null,
      "outputs": [
        {
          "output_type": "stream",
          "name": "stdout",
          "text": [
            "1\n",
            "2\n",
            "3\n",
            "4\n",
            "5\n",
            "6\n",
            "5\n",
            "5\n",
            "4\n",
            "3\n",
            "4\n",
            "4\n",
            "3\n",
            "4\n",
            "3\n",
            "4\n",
            "2\n",
            "2\n",
            "2\n",
            "3\n",
            "5\n",
            "4\n",
            "3\n",
            "2\n",
            "2\n"
          ]
        }
      ]
    },
    {
      "cell_type": "markdown",
      "source": [
        "Perfecto, ahora hemos creado un programa en el que podemos practicar nuestras habilidades de lectura de python.\n",
        "\n",
        "Procura leer el código que ha sido creadoy después corroboralo con la descripción escrita que he creado que te ayudará a corregir tus habilidades de lectura de código."
      ],
      "metadata": {
        "id": "UzSKnyqIdI2g"
      }
    },
    {
      "cell_type": "code",
      "source": [
        "a=[1,2,3,4,5,6,5,5,4,3,4,4,3,4,3,4,2,2,2,3,5,4,3,2,2]\n",
        "b=[]\n",
        "#Ahora, una vez definida la lista procederé a formar mi instrucción \"for\"\n",
        "\n",
        "for item in a:\n",
        "   b.append(item+1)\n",
        "\n",
        "print(b)"
      ],
      "metadata": {
        "id": "5Xmmv6jBdKTV",
        "colab": {
          "base_uri": "https://localhost:8080/"
        },
        "outputId": "2fd0cafb-24ae-4e4e-bef9-6969a4d07f34"
      },
      "execution_count": null,
      "outputs": [
        {
          "output_type": "stream",
          "name": "stdout",
          "text": [
            "[2, 3, 4, 5, 6, 7, 6, 6, 5, 4, 5, 5, 4, 5, 4, 5, 3, 3, 3, 4, 6, 5, 4, 3, 3]\n"
          ]
        }
      ]
    },
    {
      "cell_type": "markdown",
      "source": [
        "SE LEE ASÍ::::\n",
        "\n",
        "**crearé dos listas, la primera de ellas será un objeto llamado a, al cual le asignaré una lista compuesta por los valores designados ahí, después, asígnaré un segundo objeto llamado b, al cual le asignaré una lista vacía.\n",
        "\n",
        "Bien, una vez he creado esta lista crearé un ciclo for, al cual le diré que, para cada ítem de la lista a, haga lo siguiente:\n",
        "\n",
        "Le pediré al código que use la lista b para agregar el resultado de tomar cada ítem (que en este caso es de la lista a) y le agregue 1.\n",
        "\n",
        "Muy bien!...\n",
        "\n",
        "vamos practicando nuestras habilidades de afabetización de digital.\n"
      ],
      "metadata": {
        "id": "8EHwyp8AdMnZ"
      }
    },
    {
      "cell_type": "code",
      "source": [
        "c=[]\n",
        "b=[]\n",
        "for i in range(1,10):\n",
        "   b.append(i)\n",
        "   for item in b:\n",
        "      c.append(item+2)\n",
        "\n",
        "print(c)"
      ],
      "metadata": {
        "id": "A_DApFX1dOMC",
        "colab": {
          "base_uri": "https://localhost:8080/"
        },
        "outputId": "d74458d6-0633-44ca-9513-ab4ab384c430"
      },
      "execution_count": null,
      "outputs": [
        {
          "output_type": "stream",
          "name": "stdout",
          "text": [
            "[3, 3, 4, 3, 4, 5, 3, 4, 5, 6, 3, 4, 5, 6, 7, 3, 4, 5, 6, 7, 8, 3, 4, 5, 6, 7, 8, 9, 3, 4, 5, 6, 7, 8, 9, 10, 3, 4, 5, 6, 7, 8, 9, 10, 11]\n"
          ]
        }
      ]
    },
    {
      "cell_type": "markdown",
      "source": [
        "##***--------------------->DATA FRAMES***\n",
        "\n",
        "Los data frames o marcos de datos en español es lo que usualmente se conoce como tablas de datos.\n",
        "\n",
        "En R un dataframe es muy parecido a una matriz en dónde hay filas y columnas de información, sin embargo, mientras en una matriz de datos hay un orden numérico que al alterarse daña toda la estructura de los datos, en el dataframes no necesariamente sucede así.\n",
        "\n",
        "Pensemos un dataframe como una hoja de excel, en dónde cada dato está asignado a un espacio de una casilla y para operar con estos datos deberé simplemente tomar este dato sin alterar toda la hoja.\n",
        "\n",
        "En python, debido a que las matrices no existen, los datos son bidimensionales, es decir, solamente existen listas, tuplas y los datos solo pueden ocupar 2 dimensiones, sin embargo, python y sus desarrolladores han creado un paquete de funciones que convierte los datos a matrices multidimensionales.\n",
        "\n",
        "El nombre de este paquete es \"Pandas\" ʕᵔᴥᵔʔ"
      ],
      "metadata": {
        "id": "nD8BopR0qOjH"
      }
    },
    {
      "cell_type": "markdown",
      "source": [
        "#### ***Qué es un paquete?***\n",
        "\n",
        "Bien, como lo hemos mensionado previamente un conjuto de instrucciones al que le introduzco un input para obtener un output es un algoritmo, ahora bien, cúando uno más de un algoritmo tendré una función... es decir, un conjunto dr algoritmos que puede repetir inumerables veces para ahorrar tiempo. Estas funciones pueden ser grabadas en forma de programas, así, si sé que repetiré un una sentencia de algoritmos demasiadas veces, pues las guardo con un nombre y ahorraré tiempo.\n",
        "\n",
        "Bueno, resulta que hay programadores que saben la utilidad de muchas sentencias de código, por lo que se han dedicado a escribir cientos de funciones y a unirlas en lo que se denomina un paquete de funciones. Es decir, una hoja de código con cientos y cientos de algoritmos ya pre escritos y guardados, a los cuales al introducirlos un determinado input, se activará una función determinada y obtendremos como resultado un output especifico.\n",
        "\n",
        "Tanto R como Python trabajan en base de paquetería y son demasiado útiles para ayudarnos en el trabajo de analizar los datos... más adelante vermos más sobre los paquetes y sus funciones."
      ],
      "metadata": {
        "id": "rW5_6eZ1rsQV"
      }
    },
    {
      "cell_type": "code",
      "source": [
        "##***--------------------->DATA FRAMES***\n",
        "%%R\n",
        "#crearé una serie de vectores.\n",
        "\n",
        "nombre = c(\"Juan\", \"Ruben\", \"Daniel\", 0)\n",
        "apellido = c(\"Sanchez\", \"Garcia\", \"Sancho\", \"Alfara\")\n",
        "fecha_nacimiento = c(\"1976-06-14\", \"1974-05-07\", \"1958-12-25\", \"1983-09-19\")\n",
        "sexo = c(\"HOMBRE\", \"MUJER\", \"HOMBRE\", \"HOMBRE\")\n",
        "nro_hijos = c(1, 2, 3, 4)\n"
      ],
      "metadata": {
        "id": "Okn7-lHYqNVS"
      },
      "execution_count": null,
      "outputs": []
    },
    {
      "cell_type": "markdown",
      "source": [
        "La función data.frame me ayuda a crear dataframes en R"
      ],
      "metadata": {
        "id": "JUOBtgAFtv3D"
      }
    },
    {
      "cell_type": "code",
      "source": [
        "%%R\n",
        "#Ahora crearé mi DF\n",
        "censo = data.frame(nombre, apellido, fecha_nacimiento, sexo, nro_hijos)\n",
        "censo"
      ],
      "metadata": {
        "colab": {
          "base_uri": "https://localhost:8080/"
        },
        "id": "hvXv8Ivgtr0M",
        "outputId": "67ff7235-1158-4c0f-bfa2-b3a38885ae85"
      },
      "execution_count": null,
      "outputs": [
        {
          "output_type": "stream",
          "name": "stdout",
          "text": [
            "  nombre apellido fecha_nacimiento   sexo nro_hijos\n",
            "1   Juan  Sanchez       1976-06-14 HOMBRE         1\n",
            "2  Ruben   Garcia       1974-05-07  MUJER         2\n",
            "3 Daniel   Sancho       1958-12-25 HOMBRE         3\n",
            "4      0   Alfara       1983-09-19 HOMBRE         4\n"
          ]
        }
      ]
    },
    {
      "cell_type": "markdown",
      "source": [
        "Es importante expresar que el datafram debe contener números iguales de datos para poderse operar."
      ],
      "metadata": {
        "id": "UyuqWVxCucMx"
      }
    },
    {
      "cell_type": "code",
      "source": [
        "%%R\n",
        "employee_data <- data.frame(\n",
        "  employee_id = c (1:5), #defino un elemento compueso por un conteo de 1 a 5\n",
        "  employee_name = c(\"Jaime\",\"Henrry\",\"julia\",\"Jimmy\",\"Oliver\"), #5 nombres\n",
        "  sal = c(642.3,535.2,681.0,739.0,925.26), #5 \"salarios\" hipoteticos\n",
        "  join_date = as.Date(c(\"2013-02-04\", \"2017-06-21\", \"2012-11-14\", \"2018-05-19\",\"2016-03-25\"))\n",
        ")"
      ],
      "metadata": {
        "id": "biHB-ZgVux36"
      },
      "execution_count": null,
      "outputs": []
    },
    {
      "cell_type": "code",
      "source": [
        "%%R\n",
        "#que tipo de variables componen mi Dataframe?\n",
        "str(employee_data)"
      ],
      "metadata": {
        "colab": {
          "base_uri": "https://localhost:8080/"
        },
        "id": "SUz2zjIqu1Tw",
        "outputId": "62423e24-6650-42de-a133-075a82c1786b"
      },
      "execution_count": null,
      "outputs": [
        {
          "output_type": "stream",
          "name": "stdout",
          "text": [
            "'data.frame':\t5 obs. of  4 variables:\n",
            " $ employee_id  : int  1 2 3 4 5\n",
            " $ employee_name: chr  \"Jaime\" \"Henrry\" \"julia\" \"Jimmy\" ...\n",
            " $ sal          : num  642 535 681 739 925\n",
            " $ join_date    : Date, format: \"2013-02-04\" \"2017-06-21\" ...\n"
          ]
        }
      ]
    },
    {
      "cell_type": "code",
      "source": [
        "%%R\n",
        "#extraigo información del Fataframe\n",
        "a<- employee_data$sal\n",
        "b<-employee_data$employee_name"
      ],
      "metadata": {
        "id": "rSPjXxsOvGhc"
      },
      "execution_count": null,
      "outputs": []
    },
    {
      "cell_type": "code",
      "source": [
        "%%R\n",
        "print(a)\n",
        "print(b)"
      ],
      "metadata": {
        "colab": {
          "base_uri": "https://localhost:8080/"
        },
        "id": "POE9eT7nvJJs",
        "outputId": "5d520789-b715-4eff-e0b3-cb33e0e1d440"
      },
      "execution_count": null,
      "outputs": [
        {
          "output_type": "stream",
          "name": "stdout",
          "text": [
            "[1] 642.30 535.20 681.00 739.00 925.26\n",
            "[1] \"Jaime\"  \"Henrry\" \"julia\"  \"Jimmy\"  \"Oliver\"\n"
          ]
        }
      ]
    },
    {
      "cell_type": "markdown",
      "source": [
        "Practiquemos un poco lo aprendido, veamos..."
      ],
      "metadata": {
        "id": "891Aqv5TwB49"
      }
    },
    {
      "cell_type": "code",
      "source": [
        "%%R\n",
        "#aplico lo aprendido... que estoy haciendo aquí?\n",
        "mix = cbind(a, b)"
      ],
      "metadata": {
        "id": "-Qf_c4e8vkdF"
      },
      "execution_count": null,
      "outputs": []
    },
    {
      "cell_type": "code",
      "source": [
        "%%R\n",
        "c = c(1,2,3,4,5)"
      ],
      "metadata": {
        "id": "UgQ2_q7HwGJx"
      },
      "execution_count": null,
      "outputs": []
    },
    {
      "cell_type": "code",
      "source": [
        "%%R\n",
        "mix2 <- cbind(mix, c)"
      ],
      "metadata": {
        "colab": {
          "base_uri": "https://localhost:8080/"
        },
        "id": "GmzCo0EXwBDC",
        "outputId": "93afca24-c0f4-402e-8abf-59474ef39f88"
      },
      "execution_count": null,
      "outputs": [
        {
          "output_type": "stream",
          "name": "stdout",
          "text": [
            "     a        b        c  \n",
            "[1,] \"642.3\"  \"Jaime\"  \"1\"\n",
            "[2,] \"535.2\"  \"Henrry\" \"2\"\n",
            "[3,] \"681\"    \"julia\"  \"3\"\n",
            "[4,] \"739\"    \"Jimmy\"  \"4\"\n",
            "[5,] \"925.26\" \"Oliver\" \"5\"\n"
          ]
        }
      ]
    },
    {
      "cell_type": "code",
      "source": [
        "%%R\n",
        "pan <- as.data.frame(mix2)"
      ],
      "metadata": {
        "colab": {
          "base_uri": "https://localhost:8080/"
        },
        "id": "FgPyxb0JwQgK",
        "outputId": "6662fc75-06c4-4ed4-dd6b-18587d30eab2"
      },
      "execution_count": null,
      "outputs": [
        {
          "output_type": "stream",
          "name": "stdout",
          "text": [
            "       a      b c\n",
            "1  642.3  Jaime 1\n",
            "2  535.2 Henrry 2\n",
            "3    681  julia 3\n",
            "4    739  Jimmy 4\n",
            "5 925.26 Oliver 5\n"
          ]
        }
      ]
    },
    {
      "cell_type": "markdown",
      "source": [
        "Y cuál es la diferencia entre mix2 y pan?, no deberian quedar igualmente en forma de filas y columnas?"
      ],
      "metadata": {
        "id": "43cARjQ0ucGc"
      }
    },
    {
      "cell_type": "code",
      "source": [
        "%%R\n",
        "#ahora, de un dataframe, yo puedo extraer varios elementos a la vez\n",
        "output <- data.frame(employee_data$employee_name, employee_data$employee_id)\n",
        "print(output)"
      ],
      "metadata": {
        "colab": {
          "base_uri": "https://localhost:8080/"
        },
        "id": "AdcYfJZkwziV",
        "outputId": "e2929893-43e5-409e-8971-72d144734905"
      },
      "execution_count": null,
      "outputs": [
        {
          "output_type": "stream",
          "name": "stdout",
          "text": [
            "  employee_data.employee_name employee_data.employee_id\n",
            "1                       Jaime                         1\n",
            "2                      Henrry                         2\n",
            "3                       julia                         3\n",
            "4                       Jimmy                         4\n",
            "5                      Oliver                         5\n"
          ]
        }
      ]
    },
    {
      "cell_type": "markdown",
      "source": [
        "Ahora bien, cuándo se trata de dataframes, los comandos para llamar datos ubicados en filas y columnas funcionana de forma igual a la que se trabaja rn python, puesto que asigno los espacios de cada fila y columna en l dataframe.\n",
        "\n",
        "\n",
        "```\n",
        "[filas,columnas]\n",
        "```\n",
        "así podré ubicarme en un espacio de filas y columas\n",
        "```\n",
        "[1:10,columnas]\n",
        "[filas,1:10]\n",
        "```\n",
        "Veamos unos ejemplos para que quede aun más claro."
      ],
      "metadata": {
        "id": "cXyLYQz5xfOY"
      }
    },
    {
      "cell_type": "code",
      "source": [
        "%%R\n",
        "#O extraer 2 rows completas\n",
        "output1 = employee_data[1:2,0]#debería ser este el comando?\n",
        "\n",
        "#error, puesto que extrae la columna 0\n",
        "output2 = employee_data[1:2,]\n",
        "output3 = employee_data[1:5,]\n",
        "output4 = employee_data[,2]\n",
        "print(output1)\n"
      ],
      "metadata": {
        "colab": {
          "base_uri": "https://localhost:8080/"
        },
        "id": "ygF8WRnDw5i1",
        "outputId": "c7add650-cfff-41a6-c64c-f2f0e2bd43be"
      },
      "execution_count": null,
      "outputs": [
        {
          "output_type": "stream",
          "name": "stdout",
          "text": [
            "data frame with 0 columns and 2 rows\n"
          ]
        }
      ]
    },
    {
      "cell_type": "code",
      "source": [
        "%%R\n",
        "print(output2)\n"
      ],
      "metadata": {
        "colab": {
          "base_uri": "https://localhost:8080/"
        },
        "id": "6jlYfkH_xMT8",
        "outputId": "8fc68780-c0f3-4501-8646-aaff5aac27a5"
      },
      "execution_count": null,
      "outputs": [
        {
          "output_type": "stream",
          "name": "stdout",
          "text": [
            "  employee_id employee_name   sal  join_date\n",
            "1           1         Jaime 642.3 2013-02-04\n",
            "2           2        Henrry 535.2 2017-06-21\n"
          ]
        }
      ]
    },
    {
      "cell_type": "code",
      "source": [
        "%%R\n",
        "print(output3)\n"
      ],
      "metadata": {
        "colab": {
          "base_uri": "https://localhost:8080/"
        },
        "id": "eiOyUZgcxOwS",
        "outputId": "d385f24a-1411-455d-f751-90876fddf94e"
      },
      "execution_count": null,
      "outputs": [
        {
          "output_type": "stream",
          "name": "stdout",
          "text": [
            "  employee_id employee_name    sal  join_date\n",
            "1           1         Jaime 642.30 2013-02-04\n",
            "2           2        Henrry 535.20 2017-06-21\n",
            "3           3         julia 681.00 2012-11-14\n",
            "4           4         Jimmy 739.00 2018-05-19\n",
            "5           5        Oliver 925.26 2016-03-25\n"
          ]
        }
      ]
    },
    {
      "cell_type": "code",
      "source": [
        "%%R\n",
        "print(output4)"
      ],
      "metadata": {
        "colab": {
          "base_uri": "https://localhost:8080/"
        },
        "id": "vnHZVRgPxRlu",
        "outputId": "7c003a79-1ff8-49b0-a2e4-f98bdd988e3a"
      },
      "execution_count": null,
      "outputs": [
        {
          "output_type": "stream",
          "name": "stdout",
          "text": [
            "[1] \"Jaime\"  \"Henrry\" \"julia\"  \"Jimmy\"  \"Oliver\"\n"
          ]
        }
      ]
    },
    {
      "cell_type": "markdown",
      "source": [
        "Puedo hacer la cosa un poco más compleja"
      ],
      "metadata": {
        "id": "GisWyMv8ySZZ"
      }
    },
    {
      "cell_type": "code",
      "source": [
        "%%R\n",
        "#ahora, extraigo 1 y 2 row con la columa 3 y 4.\n",
        "result <- employee_data[c(1,2),c(3,4)]\n",
        "result"
      ],
      "metadata": {
        "colab": {
          "base_uri": "https://localhost:8080/"
        },
        "id": "zoivteBUyVki",
        "outputId": "a83a51c1-91de-4e87-a121-446431fdddaf"
      },
      "execution_count": null,
      "outputs": [
        {
          "output_type": "stream",
          "name": "stdout",
          "text": [
            "    sal  join_date\n",
            "1 642.3 2013-02-04\n",
            "2 535.2 2017-06-21\n"
          ]
        }
      ]
    },
    {
      "cell_type": "code",
      "source": [
        "%%R\n",
        "#agregando columnas\n",
        "employee_data$deptartamento <- c(\"tecología\",\"Finanzas\",\"Operaciones\",\n",
        "                                 \"recursos humanos\",\"Administración\")\n",
        "out <- employee_data\n",
        "print(out)"
      ],
      "metadata": {
        "colab": {
          "base_uri": "https://localhost:8080/"
        },
        "id": "JxgyWeAoytp4",
        "outputId": "139bba32-214b-4fe7-d507-5d229ce7e4d5"
      },
      "execution_count": null,
      "outputs": [
        {
          "output_type": "stream",
          "name": "stdout",
          "text": [
            "  employee_id employee_name    sal  join_date    deptartamento\n",
            "1           1         Jaime 642.30 2013-02-04        tecología\n",
            "2           2        Henrry 535.20 2017-06-21         Finanzas\n",
            "3           3         julia 681.00 2012-11-14      Operaciones\n",
            "4           4         Jimmy 739.00 2018-05-19 recursos humanos\n",
            "5           5        Oliver 925.26 2016-03-25   Administración\n"
          ]
        }
      ]
    },
    {
      "cell_type": "code",
      "source": [
        "%%R\n",
        "\n",
        "employee_new_data <- data.frame(\n",
        "  employee_id = c (1:5),\n",
        "  employee_name = c(\"Amanda\", \"Mauricio\", \"Andres\", \"Pedro\", \"Manuel\"),\n",
        "  sal = c(523.0,721.3,622.8,721.3,622.8),\n",
        "  deptartamento = c(\"tecología\",\"Finanzas\",\"Operaciones\",\n",
        "                    \"recursos humanos\",\"Administración\"),\n",
        "  join_date = as.Date(c(\"2015-06-22\",\"2016-04-30\",\"2011-03-17\",\"2016-04-30\",\n",
        "                        \"2011-03-17\")), stringsAsFactors = FALSE)"
      ],
      "metadata": {
        "id": "AQ_TKU8sybBR"
      },
      "execution_count": null,
      "outputs": []
    },
    {
      "cell_type": "markdown",
      "source": [
        "Bien, ahora demole una ojeada al código en python."
      ],
      "metadata": {
        "id": "rqCTDJA57htp"
      }
    },
    {
      "cell_type": "markdown",
      "source": [
        "##***-----> Pandas ʕᵔᴥᵔʔ***\n"
      ],
      "metadata": {
        "id": "tdZusPZg7k3F"
      }
    },
    {
      "cell_type": "markdown",
      "source": [
        "Pandas es el paquete de manejo de datos preferido por casi todos los analistas de datos en python, es fácil de usar y tiene muchas funcionalidades útiles."
      ],
      "metadata": {
        "id": "tiv-CVuV7uV8"
      }
    },
    {
      "cell_type": "markdown",
      "source": [
        "Sutiles diferencias:\n",
        "\n",
        "En R llamaremos paquetes con la función\n",
        "\n",
        "```\n",
        "library(nombre del paquede que deseo llamar)\n",
        "```\n",
        "y de no estar instalado usaremos el comando\n",
        "\n",
        "\n",
        "```\n",
        "install.packages(nombre del paquete)\n",
        "```\n",
        "mientras que en python y en google colab podemos llamar un paquete importandolo con la oden\n",
        "\n",
        "```\n",
        "import paquete as nickname\n",
        "\n",
        "ejemplo\n",
        "\n",
        "import pandas as pd\n",
        "```\n",
        "debido a que algunos paquetes se llamaran consecutivamente, acostumbramos a poneres un nickname o apodo que nos permita llamarlo más fácilmente.\n",
        "\n",
        "Sin embargo, en caso de que el paquete que deseo trabajar no se encuentra instalado en el entorno de python o de google colab podré instalarlo llamando a un asistente. El asistente de python se llama pip. Así, para llamar a un paquete bastará con dar la orden.\n",
        "\n",
        "```\n",
        "!pip install nombre del pquete\n",
        "```\n",
        "En el ordenador el comando cambiará un poquito ya que deberé llamar a la versión de pip que tenga instalada.\n",
        "\n",
        "Ejemplo:\n",
        "```\n",
        "pip3 install pandas\n",
        "```\n",
        "también podría ser pip2 o pip en el caso de tener la primera versión de pip."
      ],
      "metadata": {
        "id": "lvCY4fib8ZzF"
      }
    },
    {
      "cell_type": "code",
      "source": [
        "import pandas as pd"
      ],
      "metadata": {
        "id": "nNwPlfRm8W2r"
      },
      "execution_count": null,
      "outputs": []
    },
    {
      "cell_type": "code",
      "source": [
        "data = {\n",
        "  \"calories\": [420, 380, 390],\n",
        "  \"duration\": [50, 40, 45]\n",
        "}"
      ],
      "metadata": {
        "id": "mJi0aRwp8VGo"
      },
      "execution_count": null,
      "outputs": []
    },
    {
      "cell_type": "code",
      "source": [
        "df = pd.DataFrame(data)\n",
        "\n",
        "print(df)"
      ],
      "metadata": {
        "colab": {
          "base_uri": "https://localhost:8080/"
        },
        "id": "YxQJ6VRL-C_O",
        "outputId": "cb6559f1-c4cc-49a9-b0fc-f8a22d2a475d"
      },
      "execution_count": null,
      "outputs": [
        {
          "output_type": "stream",
          "name": "stdout",
          "text": [
            "   calories  duration\n",
            "0       420        50\n",
            "1       380        40\n",
            "2       390        45\n"
          ]
        }
      ]
    },
    {
      "cell_type": "markdown",
      "source": [
        "Ahora, en pandas puedo usar el comando loc de localizar para ubicarme dentro de un dataframe."
      ],
      "metadata": {
        "id": "WXOIz_nK-SD8"
      }
    },
    {
      "cell_type": "code",
      "source": [
        "print(df.loc[0])"
      ],
      "metadata": {
        "colab": {
          "base_uri": "https://localhost:8080/"
        },
        "id": "zpMcSk-B-LQc",
        "outputId": "31927458-394b-4dfa-8e60-189f7d9c63c5"
      },
      "execution_count": null,
      "outputs": [
        {
          "output_type": "stream",
          "name": "stdout",
          "text": [
            "calories    420\n",
            "duration     50\n",
            "Name: 0, dtype: int64\n"
          ]
        }
      ]
    },
    {
      "cell_type": "markdown",
      "source": [
        "Ahora con la orden index voy a nombrar los diferentes índices de mi dataframe."
      ],
      "metadata": {
        "id": "XqESQqGl-6ks"
      }
    },
    {
      "cell_type": "code",
      "source": [
        "df = pd.DataFrame(data, index = [\"day1\", \"day2\", \"day3\"])\n",
        "\n",
        "print(df)"
      ],
      "metadata": {
        "colab": {
          "base_uri": "https://localhost:8080/"
        },
        "id": "DQNSpogo-2rD",
        "outputId": "88fddfe1-2e25-4d91-8365-2ff04e861112"
      },
      "execution_count": null,
      "outputs": [
        {
          "output_type": "stream",
          "name": "stdout",
          "text": [
            "      calories  duration\n",
            "day1       420        50\n",
            "day2       380        40\n",
            "day3       390        45\n"
          ]
        }
      ]
    },
    {
      "cell_type": "code",
      "source": [
        "#otro ejemplo de localización\n",
        "print(df.loc[\"day2\"])"
      ],
      "metadata": {
        "colab": {
          "base_uri": "https://localhost:8080/"
        },
        "id": "zAI-nu4L-qUz",
        "outputId": "34b99431-7770-40b3-c281-b1755a3b20fa"
      },
      "execution_count": null,
      "outputs": [
        {
          "output_type": "stream",
          "name": "stdout",
          "text": [
            "calories    380\n",
            "duration     40\n",
            "Name: day2, dtype: int64\n"
          ]
        }
      ]
    },
    {
      "cell_type": "markdown",
      "source": [
        "Bien, pero no basta con poder trabajar un libro mixto en el que pueda trabajar... sino además hat que usarlo para importar y exportar variables de un entorno a otro.\n",
        "\n",
        "Veamos esto más a profundidad."
      ],
      "metadata": {
        "id": "YbzhY4BXGvIt"
      }
    },
    {
      "cell_type": "markdown",
      "source": [
        "Crearé una variable en python que se llame mypython"
      ],
      "metadata": {
        "id": "8MMHLJ6gG8cx"
      }
    },
    {
      "cell_type": "code",
      "source": [
        "mypython = {\"as\": [4224240, 3802424, 3902224],\n",
        "                        \"bs\": [502424, 242440, 424245]\n",
        "}\n",
        "mypython = pd.DataFrame(mypython)\n",
        "mypython"
      ],
      "metadata": {
        "colab": {
          "base_uri": "https://localhost:8080/",
          "height": 143
        },
        "id": "aAJT7ivyHA9d",
        "outputId": "22af8ae0-30b5-4fe0-c5f0-c27812d1e320"
      },
      "execution_count": null,
      "outputs": [
        {
          "output_type": "execute_result",
          "data": {
            "text/plain": [
              "        as      bs\n",
              "0  4224240  502424\n",
              "1  3802424  242440\n",
              "2  3902224  424245"
            ],
            "text/html": [
              "\n",
              "  <div id=\"df-b7deb447-5905-4e7d-a340-c8c68c12391f\">\n",
              "    <div class=\"colab-df-container\">\n",
              "      <div>\n",
              "<style scoped>\n",
              "    .dataframe tbody tr th:only-of-type {\n",
              "        vertical-align: middle;\n",
              "    }\n",
              "\n",
              "    .dataframe tbody tr th {\n",
              "        vertical-align: top;\n",
              "    }\n",
              "\n",
              "    .dataframe thead th {\n",
              "        text-align: right;\n",
              "    }\n",
              "</style>\n",
              "<table border=\"1\" class=\"dataframe\">\n",
              "  <thead>\n",
              "    <tr style=\"text-align: right;\">\n",
              "      <th></th>\n",
              "      <th>as</th>\n",
              "      <th>bs</th>\n",
              "    </tr>\n",
              "  </thead>\n",
              "  <tbody>\n",
              "    <tr>\n",
              "      <th>0</th>\n",
              "      <td>4224240</td>\n",
              "      <td>502424</td>\n",
              "    </tr>\n",
              "    <tr>\n",
              "      <th>1</th>\n",
              "      <td>3802424</td>\n",
              "      <td>242440</td>\n",
              "    </tr>\n",
              "    <tr>\n",
              "      <th>2</th>\n",
              "      <td>3902224</td>\n",
              "      <td>424245</td>\n",
              "    </tr>\n",
              "  </tbody>\n",
              "</table>\n",
              "</div>\n",
              "      <button class=\"colab-df-convert\" onclick=\"convertToInteractive('df-b7deb447-5905-4e7d-a340-c8c68c12391f')\"\n",
              "              title=\"Convert this dataframe to an interactive table.\"\n",
              "              style=\"display:none;\">\n",
              "        \n",
              "  <svg xmlns=\"http://www.w3.org/2000/svg\" height=\"24px\"viewBox=\"0 0 24 24\"\n",
              "       width=\"24px\">\n",
              "    <path d=\"M0 0h24v24H0V0z\" fill=\"none\"/>\n",
              "    <path d=\"M18.56 5.44l.94 2.06.94-2.06 2.06-.94-2.06-.94-.94-2.06-.94 2.06-2.06.94zm-11 1L8.5 8.5l.94-2.06 2.06-.94-2.06-.94L8.5 2.5l-.94 2.06-2.06.94zm10 10l.94 2.06.94-2.06 2.06-.94-2.06-.94-.94-2.06-.94 2.06-2.06.94z\"/><path d=\"M17.41 7.96l-1.37-1.37c-.4-.4-.92-.59-1.43-.59-.52 0-1.04.2-1.43.59L10.3 9.45l-7.72 7.72c-.78.78-.78 2.05 0 2.83L4 21.41c.39.39.9.59 1.41.59.51 0 1.02-.2 1.41-.59l7.78-7.78 2.81-2.81c.8-.78.8-2.07 0-2.86zM5.41 20L4 18.59l7.72-7.72 1.47 1.35L5.41 20z\"/>\n",
              "  </svg>\n",
              "      </button>\n",
              "      \n",
              "  <style>\n",
              "    .colab-df-container {\n",
              "      display:flex;\n",
              "      flex-wrap:wrap;\n",
              "      gap: 12px;\n",
              "    }\n",
              "\n",
              "    .colab-df-convert {\n",
              "      background-color: #E8F0FE;\n",
              "      border: none;\n",
              "      border-radius: 50%;\n",
              "      cursor: pointer;\n",
              "      display: none;\n",
              "      fill: #1967D2;\n",
              "      height: 32px;\n",
              "      padding: 0 0 0 0;\n",
              "      width: 32px;\n",
              "    }\n",
              "\n",
              "    .colab-df-convert:hover {\n",
              "      background-color: #E2EBFA;\n",
              "      box-shadow: 0px 1px 2px rgba(60, 64, 67, 0.3), 0px 1px 3px 1px rgba(60, 64, 67, 0.15);\n",
              "      fill: #174EA6;\n",
              "    }\n",
              "\n",
              "    [theme=dark] .colab-df-convert {\n",
              "      background-color: #3B4455;\n",
              "      fill: #D2E3FC;\n",
              "    }\n",
              "\n",
              "    [theme=dark] .colab-df-convert:hover {\n",
              "      background-color: #434B5C;\n",
              "      box-shadow: 0px 1px 3px 1px rgba(0, 0, 0, 0.15);\n",
              "      filter: drop-shadow(0px 1px 2px rgba(0, 0, 0, 0.3));\n",
              "      fill: #FFFFFF;\n",
              "    }\n",
              "  </style>\n",
              "\n",
              "      <script>\n",
              "        const buttonEl =\n",
              "          document.querySelector('#df-b7deb447-5905-4e7d-a340-c8c68c12391f button.colab-df-convert');\n",
              "        buttonEl.style.display =\n",
              "          google.colab.kernel.accessAllowed ? 'block' : 'none';\n",
              "\n",
              "        async function convertToInteractive(key) {\n",
              "          const element = document.querySelector('#df-b7deb447-5905-4e7d-a340-c8c68c12391f');\n",
              "          const dataTable =\n",
              "            await google.colab.kernel.invokeFunction('convertToInteractive',\n",
              "                                                     [key], {});\n",
              "          if (!dataTable) return;\n",
              "\n",
              "          const docLinkHtml = 'Like what you see? Visit the ' +\n",
              "            '<a target=\"_blank\" href=https://colab.research.google.com/notebooks/data_table.ipynb>data table notebook</a>'\n",
              "            + ' to learn more about interactive tables.';\n",
              "          element.innerHTML = '';\n",
              "          dataTable['output_type'] = 'display_data';\n",
              "          await google.colab.output.renderOutput(dataTable, element);\n",
              "          const docLink = document.createElement('div');\n",
              "          docLink.innerHTML = docLinkHtml;\n",
              "          element.appendChild(docLink);\n",
              "        }\n",
              "      </script>\n",
              "    </div>\n",
              "  </div>\n",
              "  "
            ]
          },
          "metadata": {},
          "execution_count": 337
        }
      ]
    },
    {
      "cell_type": "code",
      "source": [
        "%%R -i mypython\n",
        "\n",
        "nueva= as.data.frame(mypython)\n",
        "nueva"
      ],
      "metadata": {
        "colab": {
          "base_uri": "https://localhost:8080/"
        },
        "id": "pu9Tb3C_Hxwi",
        "outputId": "052b5f4a-8260-4407-d3d8-c6b25411731b"
      },
      "execution_count": null,
      "outputs": [
        {
          "output_type": "stream",
          "name": "stdout",
          "text": [
            "       as     bs\n",
            "0 4224240 502424\n",
            "1 3802424 242440\n",
            "2 3902224 424245\n"
          ]
        }
      ]
    },
    {
      "cell_type": "code",
      "source": [],
      "metadata": {
        "id": "Gy9dr1AfIxtL"
      },
      "execution_count": null,
      "outputs": []
    }
  ]
}